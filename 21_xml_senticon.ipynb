{
 "cells": [
  {
   "cell_type": "code",
   "execution_count": 1,
   "metadata": {
    "ExecuteTime": {
     "end_time": "2019-11-10T13:05:05.022239Z",
     "start_time": "2019-11-10T13:05:04.221027Z"
    }
   },
   "outputs": [],
   "source": [
    "import pandas as pd\n",
    "import numpy as np\n",
    "\n",
    "pd.set_option('display.max_columns', None)\n",
    "pd.set_option('display.max_rows', None)\n",
    "from IPython.core.interactiveshell import InteractiveShell\n",
    "InteractiveShell.ast_node_interactivity = 'all'\n",
    "\n",
    "#%timeit ,  line_profiler, memory_profiler"
   ]
  },
  {
   "cell_type": "code",
   "execution_count": 2,
   "metadata": {
    "ExecuteTime": {
     "end_time": "2019-11-10T13:05:05.030232Z",
     "start_time": "2019-11-10T13:05:05.024339Z"
    }
   },
   "outputs": [],
   "source": [
    "# xml\n",
    "#https://docs.python.org/3/library/xml.etree.elementtree.html\n",
    "# senticon\n",
    "#http://journal.sepln.org/sepln/ojs/ojs/index.php/pln/article/view/5041"
   ]
  },
  {
   "cell_type": "code",
   "execution_count": 3,
   "metadata": {
    "ExecuteTime": {
     "end_time": "2019-11-10T13:05:05.204637Z",
     "start_time": "2019-11-10T13:05:05.033368Z"
    }
   },
   "outputs": [
    {
     "data": {
      "text/html": [
       "<div>\n",
       "<style scoped>\n",
       "    .dataframe tbody tr th:only-of-type {\n",
       "        vertical-align: middle;\n",
       "    }\n",
       "\n",
       "    .dataframe tbody tr th {\n",
       "        vertical-align: top;\n",
       "    }\n",
       "\n",
       "    .dataframe thead th {\n",
       "        text-align: right;\n",
       "    }\n",
       "</style>\n",
       "<table border=\"1\" class=\"dataframe\">\n",
       "  <thead>\n",
       "    <tr style=\"text-align: right;\">\n",
       "      <th></th>\n",
       "      <th>level</th>\n",
       "      <th>orient</th>\n",
       "      <th>lemma</th>\n",
       "      <th>pos</th>\n",
       "      <th>pol</th>\n",
       "      <th>std</th>\n",
       "    </tr>\n",
       "  </thead>\n",
       "  <tbody>\n",
       "    <tr>\n",
       "      <th>11537</th>\n",
       "      <td>8</td>\n",
       "      <td>negative</td>\n",
       "      <td>ázoe</td>\n",
       "      <td>n</td>\n",
       "      <td>-0.25</td>\n",
       "      <td>0.0</td>\n",
       "    </tr>\n",
       "    <tr>\n",
       "      <th>11538</th>\n",
       "      <td>8</td>\n",
       "      <td>negative</td>\n",
       "      <td>óbito</td>\n",
       "      <td>n</td>\n",
       "      <td>-0.25</td>\n",
       "      <td>0.0</td>\n",
       "    </tr>\n",
       "    <tr>\n",
       "      <th>11539</th>\n",
       "      <td>8</td>\n",
       "      <td>negative</td>\n",
       "      <td>ópalo_negro</td>\n",
       "      <td>n</td>\n",
       "      <td>-0.25</td>\n",
       "      <td>0.0</td>\n",
       "    </tr>\n",
       "    <tr>\n",
       "      <th>11540</th>\n",
       "      <td>8</td>\n",
       "      <td>negative</td>\n",
       "      <td>ósmosis</td>\n",
       "      <td>n</td>\n",
       "      <td>-0.25</td>\n",
       "      <td>0.0</td>\n",
       "    </tr>\n",
       "    <tr>\n",
       "      <th>11541</th>\n",
       "      <td>8</td>\n",
       "      <td>negative</td>\n",
       "      <td>ótico</td>\n",
       "      <td>a</td>\n",
       "      <td>-0.25</td>\n",
       "      <td>0.0</td>\n",
       "    </tr>\n",
       "  </tbody>\n",
       "</table>\n",
       "</div>"
      ],
      "text/plain": [
       "      level    orient        lemma pos   pol  std\n",
       "11537     8  negative         ázoe   n -0.25  0.0\n",
       "11538     8  negative        óbito   n -0.25  0.0\n",
       "11539     8  negative  ópalo_negro   n -0.25  0.0\n",
       "11540     8  negative      ósmosis   n -0.25  0.0\n",
       "11541     8  negative        ótico   a -0.25  0.0"
      ]
     },
     "execution_count": 3,
     "metadata": {},
     "output_type": "execute_result"
    },
    {
     "data": {
      "text/html": [
       "<div>\n",
       "<style scoped>\n",
       "    .dataframe tbody tr th:only-of-type {\n",
       "        vertical-align: middle;\n",
       "    }\n",
       "\n",
       "    .dataframe tbody tr th {\n",
       "        vertical-align: top;\n",
       "    }\n",
       "\n",
       "    .dataframe thead th {\n",
       "        text-align: right;\n",
       "    }\n",
       "</style>\n",
       "<table border=\"1\" class=\"dataframe\">\n",
       "  <thead>\n",
       "    <tr style=\"text-align: right;\">\n",
       "      <th></th>\n",
       "      <th>level</th>\n",
       "      <th>orient</th>\n",
       "      <th>lemma</th>\n",
       "      <th>pos</th>\n",
       "      <th>pol</th>\n",
       "      <th>std</th>\n",
       "    </tr>\n",
       "  </thead>\n",
       "  <tbody>\n",
       "    <tr>\n",
       "      <th>0</th>\n",
       "      <td>1</td>\n",
       "      <td>positive</td>\n",
       "      <td>acertado</td>\n",
       "      <td>a</td>\n",
       "      <td>0.708</td>\n",
       "      <td>0.149</td>\n",
       "    </tr>\n",
       "    <tr>\n",
       "      <th>1</th>\n",
       "      <td>1</td>\n",
       "      <td>positive</td>\n",
       "      <td>admirable</td>\n",
       "      <td>a</td>\n",
       "      <td>0.906</td>\n",
       "      <td>0.125</td>\n",
       "    </tr>\n",
       "    <tr>\n",
       "      <th>2</th>\n",
       "      <td>1</td>\n",
       "      <td>positive</td>\n",
       "      <td>admiración</td>\n",
       "      <td>n</td>\n",
       "      <td>0.450</td>\n",
       "      <td>0.331</td>\n",
       "    </tr>\n",
       "    <tr>\n",
       "      <th>3</th>\n",
       "      <td>1</td>\n",
       "      <td>positive</td>\n",
       "      <td>admirar</td>\n",
       "      <td>v</td>\n",
       "      <td>0.750</td>\n",
       "      <td>0.177</td>\n",
       "    </tr>\n",
       "    <tr>\n",
       "      <th>4</th>\n",
       "      <td>1</td>\n",
       "      <td>positive</td>\n",
       "      <td>afectivo</td>\n",
       "      <td>a</td>\n",
       "      <td>0.375</td>\n",
       "      <td>0.000</td>\n",
       "    </tr>\n",
       "  </tbody>\n",
       "</table>\n",
       "</div>"
      ],
      "text/plain": [
       "  level    orient       lemma pos    pol    std\n",
       "0     1  positive    acertado   a  0.708  0.149\n",
       "1     1  positive   admirable   a  0.906  0.125\n",
       "2     1  positive  admiración   n  0.450  0.331\n",
       "3     1  positive     admirar   v  0.750  0.177\n",
       "4     1  positive    afectivo   a  0.375  0.000"
      ]
     },
     "execution_count": 3,
     "metadata": {},
     "output_type": "execute_result"
    }
   ],
   "source": [
    "import xml.etree.ElementTree as ET\n",
    "\n",
    "xtree = ET.parse('data/ML-SentiCon/senticon.es.xml')\n",
    "\n",
    "rows = []\n",
    "orient = ''\n",
    "pos=''\n",
    "pol=''\n",
    "std=''\n",
    "lemma=''\n",
    "\n",
    "for elem in xtree.iter():\n",
    "    if elem.tag == 'layer':\n",
    "        level = elem.attrib['level']\n",
    "    if elem.tag == 'positive':\n",
    "        orient = 'positive'\n",
    "    if elem.tag == 'negative':\n",
    "        orient = 'negative'\n",
    "    if elem.tag == 'lemma':\n",
    "        lemma = elem.text.strip()\n",
    "        pos = elem.attrib.get(\"pos\")\n",
    "        pol = float(str(elem.attrib.get(\"pol\")))\n",
    "        std = float(str(elem.attrib.get(\"std\")))\n",
    "    if len(lemma)> 0:\n",
    "        rows.append({\"level\": level,\"orient\":orient, \"lemma\": lemma, \n",
    "                 \"pos\": pos, \"pol\": pol, \"std\": std})\n",
    "        lemma=''\n",
    "\n",
    "#print (rows)\n",
    "\n",
    "df_cols = ['level','orient','lemma','pos','pol','std']\n",
    "out_df = pd.DataFrame(rows, columns = df_cols)\n",
    "out_df.tail()\n",
    "out_df.head()"
   ]
  },
  {
   "cell_type": "code",
   "execution_count": 5,
   "metadata": {
    "ExecuteTime": {
     "end_time": "2019-11-10T13:05:13.859387Z",
     "start_time": "2019-11-10T13:05:13.789145Z"
    }
   },
   "outputs": [],
   "source": [
    "out_df.to_csv('data/senticon_es.csv', index= False)"
   ]
  },
  {
   "cell_type": "code",
   "execution_count": null,
   "metadata": {},
   "outputs": [],
   "source": []
  }
 ],
 "metadata": {
  "kernelspec": {
   "display_name": "Python 3",
   "language": "python",
   "name": "python3"
  },
  "language_info": {
   "codemirror_mode": {
    "name": "ipython",
    "version": 3
   },
   "file_extension": ".py",
   "mimetype": "text/x-python",
   "name": "python",
   "nbconvert_exporter": "python",
   "pygments_lexer": "ipython3",
   "version": "3.6.8"
  },
  "toc": {
   "base_numbering": 1,
   "nav_menu": {},
   "number_sections": false,
   "sideBar": true,
   "skip_h1_title": false,
   "title_cell": "Table of Contents",
   "title_sidebar": "Contents",
   "toc_cell": false,
   "toc_position": {},
   "toc_section_display": true,
   "toc_window_display": false
  },
  "varInspector": {
   "cols": {
    "lenName": 16,
    "lenType": 16,
    "lenVar": 40
   },
   "kernels_config": {
    "python": {
     "delete_cmd_postfix": "",
     "delete_cmd_prefix": "del ",
     "library": "var_list.py",
     "varRefreshCmd": "print(var_dic_list())"
    },
    "r": {
     "delete_cmd_postfix": ") ",
     "delete_cmd_prefix": "rm(",
     "library": "var_list.r",
     "varRefreshCmd": "cat(var_dic_list()) "
    }
   },
   "types_to_exclude": [
    "module",
    "function",
    "builtin_function_or_method",
    "instance",
    "_Feature"
   ],
   "window_display": false
  }
 },
 "nbformat": 4,
 "nbformat_minor": 2
}
