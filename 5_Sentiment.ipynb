{
 "cells": [
  {
   "cell_type": "code",
   "execution_count": 1,
   "metadata": {
    "ExecuteTime": {
     "end_time": "2019-11-12T15:26:54.707805Z",
     "start_time": "2019-11-12T15:26:53.974297Z"
    }
   },
   "outputs": [],
   "source": [
    "import pandas as pd\n",
    "import numpy as np\n",
    "\n",
    "pd.set_option('display.max_columns', None)\n",
    "pd.set_option('display.max_rows', None)\n",
    "from IPython.core.interactiveshell import InteractiveShell\n",
    "InteractiveShell.ast_node_interactivity = 'all'\n"
   ]
  },
  {
   "cell_type": "code",
   "execution_count": 126,
   "metadata": {
    "ExecuteTime": {
     "end_time": "2019-11-12T18:42:43.005569Z",
     "start_time": "2019-11-12T18:42:42.836636Z"
    }
   },
   "outputs": [],
   "source": [
    "import matplotlib.pyplot as plt\n",
    "import seaborn as sns\n",
    "%matplotlib inline\n",
    "#%timeit ,  line_profiler, memory_profiler"
   ]
  },
  {
   "cell_type": "code",
   "execution_count": null,
   "metadata": {},
   "outputs": [],
   "source": []
  },
  {
   "cell_type": "code",
   "execution_count": 10,
   "metadata": {
    "ExecuteTime": {
     "end_time": "2019-11-12T15:42:52.067587Z",
     "start_time": "2019-11-12T15:42:52.062953Z"
    }
   },
   "outputs": [],
   "source": [
    "import nltk\n",
    "from nltk import pos_tag, word_tokenize\n",
    "from nltk.collocations import *\n",
    "import re"
   ]
  },
  {
   "cell_type": "code",
   "execution_count": 2,
   "metadata": {
    "ExecuteTime": {
     "end_time": "2019-11-12T15:28:21.103770Z",
     "start_time": "2019-11-12T15:28:21.011116Z"
    }
   },
   "outputs": [
    {
     "data": {
      "text/html": [
       "<div>\n",
       "<style scoped>\n",
       "    .dataframe tbody tr th:only-of-type {\n",
       "        vertical-align: middle;\n",
       "    }\n",
       "\n",
       "    .dataframe tbody tr th {\n",
       "        vertical-align: top;\n",
       "    }\n",
       "\n",
       "    .dataframe thead th {\n",
       "        text-align: right;\n",
       "    }\n",
       "</style>\n",
       "<table border=\"1\" class=\"dataframe\">\n",
       "  <thead>\n",
       "    <tr style=\"text-align: right;\">\n",
       "      <th></th>\n",
       "      <th>level</th>\n",
       "      <th>orient</th>\n",
       "      <th>lemma</th>\n",
       "      <th>pos</th>\n",
       "      <th>pol</th>\n",
       "      <th>std</th>\n",
       "    </tr>\n",
       "  </thead>\n",
       "  <tbody>\n",
       "    <tr>\n",
       "      <th>0</th>\n",
       "      <td>1</td>\n",
       "      <td>positive</td>\n",
       "      <td>acertado</td>\n",
       "      <td>a</td>\n",
       "      <td>0.708</td>\n",
       "      <td>0.149</td>\n",
       "    </tr>\n",
       "    <tr>\n",
       "      <th>1</th>\n",
       "      <td>1</td>\n",
       "      <td>positive</td>\n",
       "      <td>admirable</td>\n",
       "      <td>a</td>\n",
       "      <td>0.906</td>\n",
       "      <td>0.125</td>\n",
       "    </tr>\n",
       "    <tr>\n",
       "      <th>2</th>\n",
       "      <td>1</td>\n",
       "      <td>positive</td>\n",
       "      <td>admiración</td>\n",
       "      <td>n</td>\n",
       "      <td>0.450</td>\n",
       "      <td>0.331</td>\n",
       "    </tr>\n",
       "    <tr>\n",
       "      <th>3</th>\n",
       "      <td>1</td>\n",
       "      <td>positive</td>\n",
       "      <td>admirar</td>\n",
       "      <td>v</td>\n",
       "      <td>0.750</td>\n",
       "      <td>0.177</td>\n",
       "    </tr>\n",
       "    <tr>\n",
       "      <th>4</th>\n",
       "      <td>1</td>\n",
       "      <td>positive</td>\n",
       "      <td>afectivo</td>\n",
       "      <td>a</td>\n",
       "      <td>0.375</td>\n",
       "      <td>0.000</td>\n",
       "    </tr>\n",
       "  </tbody>\n",
       "</table>\n",
       "</div>"
      ],
      "text/plain": [
       "   level    orient       lemma pos    pol    std\n",
       "0      1  positive    acertado   a  0.708  0.149\n",
       "1      1  positive   admirable   a  0.906  0.125\n",
       "2      1  positive  admiración   n  0.450  0.331\n",
       "3      1  positive     admirar   v  0.750  0.177\n",
       "4      1  positive    afectivo   a  0.375  0.000"
      ]
     },
     "execution_count": 2,
     "metadata": {},
     "output_type": "execute_result"
    }
   ],
   "source": [
    "#polar = pd.read_csv('AFINN-111.txt', sep=\"\\t\", header=None)\n",
    "polar = pd.read_csv('data/senticon_es.csv')\n",
    "polar.head()#.columns = [\"polaritat\", \"valor\"]"
   ]
  },
  {
   "cell_type": "code",
   "execution_count": 73,
   "metadata": {
    "ExecuteTime": {
     "end_time": "2019-11-12T17:46:59.165071Z",
     "start_time": "2019-11-12T17:46:59.122471Z"
    }
   },
   "outputs": [
    {
     "data": {
      "text/html": [
       "<div>\n",
       "<style scoped>\n",
       "    .dataframe tbody tr th:only-of-type {\n",
       "        vertical-align: middle;\n",
       "    }\n",
       "\n",
       "    .dataframe tbody tr th {\n",
       "        vertical-align: top;\n",
       "    }\n",
       "\n",
       "    .dataframe thead th {\n",
       "        text-align: right;\n",
       "    }\n",
       "</style>\n",
       "<table border=\"1\" class=\"dataframe\">\n",
       "  <thead>\n",
       "    <tr style=\"text-align: right;\">\n",
       "      <th></th>\n",
       "      <th>book</th>\n",
       "      <th>chapter</th>\n",
       "      <th>verse</th>\n",
       "      <th>text</th>\n",
       "      <th>version</th>\n",
       "    </tr>\n",
       "  </thead>\n",
       "  <tbody>\n",
       "    <tr>\n",
       "      <th>0</th>\n",
       "      <td>GEN</td>\n",
       "      <td>1</td>\n",
       "      <td>1</td>\n",
       "      <td>Dios, en el principio, creó los cielos y la ti...</td>\n",
       "      <td>NVI</td>\n",
       "    </tr>\n",
       "    <tr>\n",
       "      <th>1</th>\n",
       "      <td>GEN</td>\n",
       "      <td>1</td>\n",
       "      <td>2</td>\n",
       "      <td>La tierra era un caos total, las tinieblas cub...</td>\n",
       "      <td>NVI</td>\n",
       "    </tr>\n",
       "    <tr>\n",
       "      <th>2</th>\n",
       "      <td>GEN</td>\n",
       "      <td>1</td>\n",
       "      <td>3</td>\n",
       "      <td>Y dijo Dios: «¡ Que exista la luz ! »Y la luz ...</td>\n",
       "      <td>NVI</td>\n",
       "    </tr>\n",
       "    <tr>\n",
       "      <th>3</th>\n",
       "      <td>GEN</td>\n",
       "      <td>1</td>\n",
       "      <td>4</td>\n",
       "      <td>Dios consideró que la luz era buena y la separ...</td>\n",
       "      <td>NVI</td>\n",
       "    </tr>\n",
       "    <tr>\n",
       "      <th>4</th>\n",
       "      <td>GEN</td>\n",
       "      <td>1</td>\n",
       "      <td>5</td>\n",
       "      <td>A la luz la llamó «día», y a las tinieblas, «n...</td>\n",
       "      <td>NVI</td>\n",
       "    </tr>\n",
       "  </tbody>\n",
       "</table>\n",
       "</div>"
      ],
      "text/plain": [
       "  book  chapter  verse                                               text  \\\n",
       "0  GEN        1      1  Dios, en el principio, creó los cielos y la ti...   \n",
       "1  GEN        1      2  La tierra era un caos total, las tinieblas cub...   \n",
       "2  GEN        1      3  Y dijo Dios: «¡ Que exista la luz ! »Y la luz ...   \n",
       "3  GEN        1      4  Dios consideró que la luz era buena y la separ...   \n",
       "4  GEN        1      5  A la luz la llamó «día», y a las tinieblas, «n...   \n",
       "\n",
       "  version  \n",
       "0     NVI  \n",
       "1     NVI  \n",
       "2     NVI  \n",
       "3     NVI  \n",
       "4     NVI  "
      ]
     },
     "execution_count": 73,
     "metadata": {},
     "output_type": "execute_result"
    },
    {
     "data": {
      "text/html": [
       "<div>\n",
       "<style scoped>\n",
       "    .dataframe tbody tr th:only-of-type {\n",
       "        vertical-align: middle;\n",
       "    }\n",
       "\n",
       "    .dataframe tbody tr th {\n",
       "        vertical-align: top;\n",
       "    }\n",
       "\n",
       "    .dataframe thead th {\n",
       "        text-align: right;\n",
       "    }\n",
       "</style>\n",
       "<table border=\"1\" class=\"dataframe\">\n",
       "  <thead>\n",
       "    <tr style=\"text-align: right;\">\n",
       "      <th></th>\n",
       "      <th>book</th>\n",
       "      <th>chapter</th>\n",
       "      <th>verse</th>\n",
       "      <th>text</th>\n",
       "      <th>version</th>\n",
       "    </tr>\n",
       "  </thead>\n",
       "  <tbody>\n",
       "    <tr>\n",
       "      <th>0</th>\n",
       "      <td>REV</td>\n",
       "      <td>1</td>\n",
       "      <td>1</td>\n",
       "      <td>Esta es la revelación de Jesucristo, que Dios ...</td>\n",
       "      <td>NVI</td>\n",
       "    </tr>\n",
       "    <tr>\n",
       "      <th>1</th>\n",
       "      <td>REV</td>\n",
       "      <td>1</td>\n",
       "      <td>2</td>\n",
       "      <td>quien por su parte da fe de la verdad, escribi...</td>\n",
       "      <td>NVI</td>\n",
       "    </tr>\n",
       "    <tr>\n",
       "      <th>2</th>\n",
       "      <td>REV</td>\n",
       "      <td>1</td>\n",
       "      <td>3</td>\n",
       "      <td>Dichoso el que lee y dichosos los que escuchan...</td>\n",
       "      <td>NVI</td>\n",
       "    </tr>\n",
       "    <tr>\n",
       "      <th>3</th>\n",
       "      <td>REV</td>\n",
       "      <td>1</td>\n",
       "      <td>4</td>\n",
       "      <td>Yo, Juan, escribo a las siete iglesias que est...</td>\n",
       "      <td>NVI</td>\n",
       "    </tr>\n",
       "    <tr>\n",
       "      <th>4</th>\n",
       "      <td>REV</td>\n",
       "      <td>1</td>\n",
       "      <td>5</td>\n",
       "      <td>y de parte de Jesucristo, el testigo fiel, el ...</td>\n",
       "      <td>NVI</td>\n",
       "    </tr>\n",
       "  </tbody>\n",
       "</table>\n",
       "</div>"
      ],
      "text/plain": [
       "  book  chapter  verse                                               text  \\\n",
       "0  REV        1      1  Esta es la revelación de Jesucristo, que Dios ...   \n",
       "1  REV        1      2  quien por su parte da fe de la verdad, escribi...   \n",
       "2  REV        1      3  Dichoso el que lee y dichosos los que escuchan...   \n",
       "3  REV        1      4  Yo, Juan, escribo a las siete iglesias que est...   \n",
       "4  REV        1      5  y de parte de Jesucristo, el testigo fiel, el ...   \n",
       "\n",
       "  version  \n",
       "0     NVI  \n",
       "1     NVI  \n",
       "2     NVI  \n",
       "3     NVI  \n",
       "4     NVI  "
      ]
     },
     "execution_count": 73,
     "metadata": {},
     "output_type": "execute_result"
    }
   ],
   "source": [
    "GEN = pd.read_csv('data/1_GEN_clean.csv')\n",
    "GEN.head()\n",
    "REV = pd.read_csv('data/66_REV_clean.csv')\n",
    "REV.head()"
   ]
  },
  {
   "cell_type": "code",
   "execution_count": 75,
   "metadata": {
    "ExecuteTime": {
     "end_time": "2019-11-12T17:47:44.336098Z",
     "start_time": "2019-11-12T17:47:44.330809Z"
    }
   },
   "outputs": [],
   "source": [
    "list_gen = GEN.text.to_list()\n",
    "list_rev = REV.text.to_list()"
   ]
  },
  {
   "cell_type": "code",
   "execution_count": 76,
   "metadata": {
    "ExecuteTime": {
     "end_time": "2019-11-12T17:47:46.462170Z",
     "start_time": "2019-11-12T17:47:46.453309Z"
    }
   },
   "outputs": [
    {
     "data": {
      "text/plain": [
       "['Dios, en el principio, creó los cielos y la tierra.',\n",
       " 'La tierra era un caos total, las tinieblas cubrían el abismo, y el Espíritu de Dios se movía sobre la superficie de las aguas.']"
      ]
     },
     "execution_count": 76,
     "metadata": {},
     "output_type": "execute_result"
    },
    {
     "data": {
      "text/plain": [
       "['Esta es la revelación de Jesucristo, que Dios le dio para mostrar a sus siervos lo que sin demora tiene que suceder. Jesucristo envió a su ángel para dar a conocer la revelación a su siervo Juan, ',\n",
       " 'quien por su parte da fe de la verdad, escribiendo todo lo que vio, a saber, la palabra de Dios y el testimonio de Jesucristo. ']"
      ]
     },
     "execution_count": 76,
     "metadata": {},
     "output_type": "execute_result"
    }
   ],
   "source": [
    "list_gen[:2]\n",
    "list_rev[:2]"
   ]
  },
  {
   "cell_type": "code",
   "execution_count": 100,
   "metadata": {
    "ExecuteTime": {
     "end_time": "2019-11-12T18:28:20.683080Z",
     "start_time": "2019-11-12T18:28:20.678475Z"
    }
   },
   "outputs": [],
   "source": [
    "def candidates(list_sentences):\n",
    "    sh_tag = [ tag_tokenizer(line) for line in(list_sentences)]\n",
    "    sh_np = [t for t in(sh_tag)]\n",
    "    sh_words = to_words(sh_np)\n",
    "    return sh_words"
   ]
  },
  {
   "cell_type": "code",
   "execution_count": 37,
   "metadata": {
    "ExecuteTime": {
     "end_time": "2019-11-12T15:56:41.170472Z",
     "start_time": "2019-11-12T15:56:41.163276Z"
    }
   },
   "outputs": [],
   "source": [
    "from nltk.tokenize import RegexpTokenizer\n",
    "tokenizer = RegexpTokenizer(r'\\w+')\n",
    "\n",
    "def get_tokens(text):\n",
    "    # aquest tokenizer extreurà els caracters de puntuació\n",
    "    return tokenizer.tokenize(text.lower())\n",
    "\n",
    "def token_filter(tokens):\n",
    "    stop_words = nltk.corpus.stopwords.words('spanish')\n",
    "    word_tokens = [word for word in tokens if word not in stop_words and re.match('[a-zA-Z\\-][a-zA-Z\\-]{2,}',word)]\n",
    "    return word_tokens\n",
    "\n",
    "def tag_tokenizer(text):\n",
    "    tokens = get_tokens(text)\n",
    "    tokens = token_filter(tokens)\n",
    "    tagged_tokens = tagged_pos(tokens)\n",
    "    return tagged_tokens\n",
    "\n",
    "def tagged_pos(tokens):\n",
    "    tagged_tokens = nltk.pos_tag(tokens)\n",
    "    return tagged_tokens"
   ]
  },
  {
   "cell_type": "code",
   "execution_count": 108,
   "metadata": {
    "ExecuteTime": {
     "end_time": "2019-11-12T18:33:53.522215Z",
     "start_time": "2019-11-12T18:33:53.515898Z"
    }
   },
   "outputs": [],
   "source": [
    "def to_words(data_list):\n",
    "    ret=[]\n",
    "    for line in(data_list):\n",
    "        med=[]\n",
    "        for w in line:\n",
    "            #print(w)\n",
    "            tx=''\n",
    "            for el in w:\n",
    "                if type(el) is tuple:\n",
    "                    tx += \" \"+el[0]\n",
    "                else:\n",
    "                    tx=w[0]\n",
    "            tx = tx.strip()\n",
    "            med.append(tx)\n",
    "        if len(med)>0:\n",
    "               ret.append(med)\n",
    "    return ret"
   ]
  },
  {
   "cell_type": "code",
   "execution_count": 109,
   "metadata": {
    "ExecuteTime": {
     "end_time": "2019-11-12T18:33:55.747526Z",
     "start_time": "2019-11-12T18:33:55.739541Z"
    }
   },
   "outputs": [
    {
     "data": {
      "text/plain": [
       "[('dios', 'NNS'),\n",
       " ('principio', 'VBP'),\n",
       " ('creó', 'JJ'),\n",
       " ('cielos', 'NN'),\n",
       " ('tierra', 'NN')]"
      ]
     },
     "execution_count": 109,
     "metadata": {},
     "output_type": "execute_result"
    }
   ],
   "source": [
    "t1 = tag_tokenizer(list_gen[0])\n",
    "t1"
   ]
  },
  {
   "cell_type": "code",
   "execution_count": 110,
   "metadata": {
    "ExecuteTime": {
     "end_time": "2019-11-12T18:34:00.075981Z",
     "start_time": "2019-11-12T18:33:58.151816Z"
    },
    "scrolled": false
   },
   "outputs": [],
   "source": [
    "cand_gen = candidates(list_gen)"
   ]
  },
  {
   "cell_type": "code",
   "execution_count": 111,
   "metadata": {
    "ExecuteTime": {
     "end_time": "2019-11-12T18:34:02.928113Z",
     "start_time": "2019-11-12T18:34:02.380708Z"
    }
   },
   "outputs": [
    {
     "data": {
      "text/plain": [
       "382"
      ]
     },
     "execution_count": 111,
     "metadata": {},
     "output_type": "execute_result"
    },
    {
     "data": {
      "text/plain": [
       "382"
      ]
     },
     "execution_count": 111,
     "metadata": {},
     "output_type": "execute_result"
    }
   ],
   "source": [
    "len(list_rev)\n",
    "\n",
    "cand_rev = candidates(list_rev)\n",
    "\n",
    "len(cand_rev)"
   ]
  },
  {
   "cell_type": "code",
   "execution_count": 112,
   "metadata": {
    "ExecuteTime": {
     "end_time": "2019-11-12T18:34:26.698483Z",
     "start_time": "2019-11-12T18:34:26.688281Z"
    }
   },
   "outputs": [
    {
     "data": {
      "text/plain": [
       "[['dios', 'principio', 'creó', 'cielos', 'tierra'],\n",
       " ['tierra',\n",
       "  'caos',\n",
       "  'total',\n",
       "  'tinieblas',\n",
       "  'cubrían',\n",
       "  'abismo',\n",
       "  'espíritu',\n",
       "  'dios',\n",
       "  'movía',\n",
       "  'superficie',\n",
       "  'aguas']]"
      ]
     },
     "execution_count": 112,
     "metadata": {},
     "output_type": "execute_result"
    },
    {
     "data": {
      "text/plain": [
       "[['revelación',\n",
       "  'jesucristo',\n",
       "  'dios',\n",
       "  'dio',\n",
       "  'mostrar',\n",
       "  'siervos',\n",
       "  'demora',\n",
       "  'suceder',\n",
       "  'jesucristo',\n",
       "  'envió',\n",
       "  'dar',\n",
       "  'conocer',\n",
       "  'revelación',\n",
       "  'siervo',\n",
       "  'juan'],\n",
       " ['parte',\n",
       "  'verdad',\n",
       "  'escribiendo',\n",
       "  'vio',\n",
       "  'saber',\n",
       "  'palabra',\n",
       "  'dios',\n",
       "  'testimonio',\n",
       "  'jesucristo']]"
      ]
     },
     "execution_count": 112,
     "metadata": {},
     "output_type": "execute_result"
    }
   ],
   "source": [
    "cand_gen[:2]\n",
    "cand_rev[:2]"
   ]
  },
  {
   "cell_type": "code",
   "execution_count": 113,
   "metadata": {
    "ExecuteTime": {
     "end_time": "2019-11-12T18:34:28.885112Z",
     "start_time": "2019-11-12T18:34:28.878023Z"
    }
   },
   "outputs": [],
   "source": [
    "def calculate_mean_opinions(polar, candidats):\n",
    "    ret=[]\n",
    "    diccio = dict(zip(polar.lemma, polar.pol))\n",
    "    for i,text in enumerate(candidats):\n",
    "        mitj = 0\n",
    "        val = 0\n",
    "        count_opinion = 0\n",
    "        #print('text:'+\" \".join(text))\n",
    "        for j,word in enumerate(text):\n",
    "            #print(word)\n",
    "            if diccio.get(word) == None:\n",
    "                val = 0\n",
    "                #print('not in dic')\n",
    "            else: \n",
    "                val = diccio.get(word)\n",
    "                count_opinion += 1\n",
    "            mitj += val\n",
    "        #print('m='+str(mitj))\n",
    "        if count_opinion:\n",
    "            ret.append ( float(mitj/count_opinion))\n",
    "        else:\n",
    "            ret.append(0)\n",
    "    print('n='+str(i))    \n",
    "    return ret"
   ]
  },
  {
   "cell_type": "code",
   "execution_count": null,
   "metadata": {},
   "outputs": [],
   "source": []
  },
  {
   "cell_type": "code",
   "execution_count": 114,
   "metadata": {
    "ExecuteTime": {
     "end_time": "2019-11-12T18:34:30.974209Z",
     "start_time": "2019-11-12T18:34:30.959487Z"
    }
   },
   "outputs": [
    {
     "name": "stdout",
     "output_type": "stream",
     "text": [
      "n=1482\n"
     ]
    }
   ],
   "source": [
    "opinions_gen = calculate_mean_opinions(polar, cand_gen)"
   ]
  },
  {
   "cell_type": "code",
   "execution_count": 115,
   "metadata": {
    "ExecuteTime": {
     "end_time": "2019-11-12T18:34:33.071108Z",
     "start_time": "2019-11-12T18:34:33.064686Z"
    }
   },
   "outputs": [
    {
     "data": {
      "text/plain": [
       "382"
      ]
     },
     "execution_count": 115,
     "metadata": {},
     "output_type": "execute_result"
    }
   ],
   "source": [
    "len(cand_rev)"
   ]
  },
  {
   "cell_type": "code",
   "execution_count": 116,
   "metadata": {
    "ExecuteTime": {
     "end_time": "2019-11-12T18:34:35.157268Z",
     "start_time": "2019-11-12T18:34:35.143961Z"
    }
   },
   "outputs": [
    {
     "name": "stdout",
     "output_type": "stream",
     "text": [
      "n=381\n"
     ]
    }
   ],
   "source": [
    "opinions_rev = calculate_mean_opinions(polar, cand_rev)"
   ]
  },
  {
   "cell_type": "code",
   "execution_count": 117,
   "metadata": {
    "ExecuteTime": {
     "end_time": "2019-11-12T18:34:37.278799Z",
     "start_time": "2019-11-12T18:34:37.271944Z"
    },
    "scrolled": true
   },
   "outputs": [
    {
     "data": {
      "text/plain": [
       "[0, -0.25, 0.25, 0, 0]"
      ]
     },
     "execution_count": 117,
     "metadata": {},
     "output_type": "execute_result"
    }
   ],
   "source": [
    "opinions_gen[:5]"
   ]
  },
  {
   "cell_type": "code",
   "execution_count": 118,
   "metadata": {
    "ExecuteTime": {
     "end_time": "2019-11-12T18:34:48.692446Z",
     "start_time": "2019-11-12T18:34:48.685940Z"
    }
   },
   "outputs": [
    {
     "data": {
      "text/plain": [
       "[0, 0.3, -0.3125, 0, 0.2333333333333333]"
      ]
     },
     "execution_count": 118,
     "metadata": {},
     "output_type": "execute_result"
    }
   ],
   "source": [
    "opinions_rev[:5]"
   ]
  },
  {
   "cell_type": "code",
   "execution_count": 119,
   "metadata": {
    "ExecuteTime": {
     "end_time": "2019-11-12T18:34:50.834693Z",
     "start_time": "2019-11-12T18:34:50.827108Z"
    }
   },
   "outputs": [],
   "source": [
    "GEN['opinions']=opinions_gen"
   ]
  },
  {
   "cell_type": "code",
   "execution_count": 120,
   "metadata": {
    "ExecuteTime": {
     "end_time": "2019-11-12T18:34:53.015446Z",
     "start_time": "2019-11-12T18:34:52.966432Z"
    }
   },
   "outputs": [
    {
     "data": {
      "text/html": [
       "<div>\n",
       "<style scoped>\n",
       "    .dataframe tbody tr th:only-of-type {\n",
       "        vertical-align: middle;\n",
       "    }\n",
       "\n",
       "    .dataframe tbody tr th {\n",
       "        vertical-align: top;\n",
       "    }\n",
       "\n",
       "    .dataframe thead th {\n",
       "        text-align: right;\n",
       "    }\n",
       "</style>\n",
       "<table border=\"1\" class=\"dataframe\">\n",
       "  <thead>\n",
       "    <tr style=\"text-align: right;\">\n",
       "      <th></th>\n",
       "      <th>book</th>\n",
       "      <th>chapter</th>\n",
       "      <th>verse</th>\n",
       "      <th>text</th>\n",
       "      <th>version</th>\n",
       "      <th>opinions</th>\n",
       "    </tr>\n",
       "  </thead>\n",
       "  <tbody>\n",
       "    <tr>\n",
       "      <th>0</th>\n",
       "      <td>GEN</td>\n",
       "      <td>1</td>\n",
       "      <td>1</td>\n",
       "      <td>Dios, en el principio, creó los cielos y la ti...</td>\n",
       "      <td>NVI</td>\n",
       "      <td>0.00</td>\n",
       "    </tr>\n",
       "    <tr>\n",
       "      <th>1</th>\n",
       "      <td>GEN</td>\n",
       "      <td>1</td>\n",
       "      <td>2</td>\n",
       "      <td>La tierra era un caos total, las tinieblas cub...</td>\n",
       "      <td>NVI</td>\n",
       "      <td>-0.25</td>\n",
       "    </tr>\n",
       "  </tbody>\n",
       "</table>\n",
       "</div>"
      ],
      "text/plain": [
       "  book  chapter  verse                                               text  \\\n",
       "0  GEN        1      1  Dios, en el principio, creó los cielos y la ti...   \n",
       "1  GEN        1      2  La tierra era un caos total, las tinieblas cub...   \n",
       "\n",
       "  version  opinions  \n",
       "0     NVI      0.00  \n",
       "1     NVI     -0.25  "
      ]
     },
     "execution_count": 120,
     "metadata": {},
     "output_type": "execute_result"
    }
   ],
   "source": [
    "GEN.head(2)"
   ]
  },
  {
   "cell_type": "code",
   "execution_count": 121,
   "metadata": {
    "ExecuteTime": {
     "end_time": "2019-11-12T18:34:55.134153Z",
     "start_time": "2019-11-12T18:34:55.126389Z"
    }
   },
   "outputs": [
    {
     "data": {
      "text/plain": [
       "382"
      ]
     },
     "execution_count": 121,
     "metadata": {},
     "output_type": "execute_result"
    },
    {
     "data": {
      "text/plain": [
       "382"
      ]
     },
     "execution_count": 121,
     "metadata": {},
     "output_type": "execute_result"
    }
   ],
   "source": [
    "len(REV)\n",
    "len(opinions_rev)"
   ]
  },
  {
   "cell_type": "code",
   "execution_count": 122,
   "metadata": {
    "ExecuteTime": {
     "end_time": "2019-11-12T18:35:06.536960Z",
     "start_time": "2019-11-12T18:35:06.532149Z"
    }
   },
   "outputs": [],
   "source": [
    "REV['opinions']=opinions_rev"
   ]
  },
  {
   "cell_type": "code",
   "execution_count": 128,
   "metadata": {
    "ExecuteTime": {
     "end_time": "2019-11-12T18:43:02.209230Z",
     "start_time": "2019-11-12T18:43:01.718197Z"
    }
   },
   "outputs": [
    {
     "data": {
      "image/png": "[encoded data removed]",
      "text/plain": [
       "<Figure size 432x288 with 1 Axes>"
      ]
     },
     "metadata": {
      "needs_background": "light"
     },
     "output_type": "display_data"
    },
    {
     "data": {
      "image/png": "[encoded data removed]",
      "text/plain": [
       "<Figure size 432x288 with 1 Axes>"
      ]
     },
     "metadata": {
      "needs_background": "light"
     },
     "output_type": "display_data"
    }
   ],
   "source": [
    "GEN['opinions'].hist();\n",
    "plt.show();\n",
    "REV['opinions'].hist();\n",
    "plt.show();"
   ]
  },
  {
   "cell_type": "code",
   "execution_count": 133,
   "metadata": {
    "ExecuteTime": {
     "end_time": "2019-11-12T18:47:46.488886Z",
     "start_time": "2019-11-12T18:47:45.492461Z"
    }
   },
   "outputs": [
    {
     "data": {
      "image/png": "[encoded data removed]",
      "text/plain": [
       "<Figure size 432x288 with 1 Axes>"
      ]
     },
     "execution_count": 133,
     "metadata": {},
     "output_type": "execute_result"
    },
    {
     "data": {
      "image/png": "[encoded data removed]",
      "text/plain": [
       "<Figure size 432x288 with 1 Axes>"
      ]
     },
     "metadata": {
      "needs_background": "light"
     },
     "output_type": "display_data"
    },
    {
     "data": {
      "image/png": "[encoded data removed]",
      "text/plain": [
       "<Figure size 432x288 with 1 Axes>"
      ]
     },
     "execution_count": 133,
     "metadata": {},
     "output_type": "execute_result"
    },
    {
     "data": {
      "image/png": "[encoded data removed]",
      "text/plain": [
       "<Figure size 432x288 with 1 Axes>"
      ]
     },
     "metadata": {
      "needs_background": "light"
     },
     "output_type": "display_data"
    }
   ],
   "source": [
    "# QQ Plot\n",
    "from statsmodels.graphics.gofplots import qqplot\n",
    "\n",
    "# q-q plot\n",
    "qqplot(GEN['opinions'], line='s')\n",
    "plt.show()\n",
    "qqplot(REV['opinions'], line='s')\n",
    "plt.show()"
   ]
  },
  {
   "cell_type": "code",
   "execution_count": 140,
   "metadata": {
    "ExecuteTime": {
     "end_time": "2019-11-12T19:02:10.777913Z",
     "start_time": "2019-11-12T19:02:10.770716Z"
    }
   },
   "outputs": [],
   "source": [
    "# Shapiro-Wilk Test\n",
    "from scipy.stats import shapiro\n",
    "\n",
    "def test_sh_normality(data, title):\n",
    "    # normality test\n",
    "    print(title)\n",
    "    print('-'*len(title))\n",
    "    stat, p = shapiro(data)\n",
    "    print('Statistics=%.4f, p=' % (stat), p)\n",
    "    # interpret\n",
    "    alpha = 0.05\n",
    "    if p > alpha:\n",
    "        print('Sample looks Gaussian (fail to reject H0)')\n",
    "    else:\n",
    "        print('Sample does not look Gaussian (reject H0)')\n",
    "    print(\"\")"
   ]
  },
  {
   "cell_type": "code",
   "execution_count": 141,
   "metadata": {
    "ExecuteTime": {
     "end_time": "2019-11-12T19:02:13.087782Z",
     "start_time": "2019-11-12T19:02:13.080124Z"
    }
   },
   "outputs": [
    {
     "name": "stdout",
     "output_type": "stream",
     "text": [
      "Genesis\n",
      "-------\n",
      "Statistics=0.8635, p= 4.6787512879558325e-34\n",
      "Sample does not look Gaussian (reject H0)\n",
      "\n",
      "Apocalipsis\n",
      "-----------\n",
      "Statistics=0.9442, p= 8.464775408389968e-11\n",
      "Sample does not look Gaussian (reject H0)\n",
      "\n"
     ]
    }
   ],
   "source": [
    "test_sh_normality(GEN['opinions'],'Genesis')\n",
    "test_sh_normality(REV['opinions'],'Apocalipsis')"
   ]
  },
  {
   "cell_type": "code",
   "execution_count": 157,
   "metadata": {
    "ExecuteTime": {
     "end_time": "2019-11-12T19:53:08.154201Z",
     "start_time": "2019-11-12T19:53:08.145578Z"
    }
   },
   "outputs": [
    {
     "name": "stdout",
     "output_type": "stream",
     "text": [
      "Statistics=18.200, p=0.000\n",
      "Reject the null hypothesis that Var(X) == Var(Y), then they are independents\n"
     ]
    }
   ],
   "source": [
    "from scipy.stats import levene\n",
    "stat, p_value = levene(GEN['opinions'], REV['opinions'])\n",
    "# H0: μ1 = μ2\n",
    "# The Levene test tests the null hypothesis that all input\n",
    "# samples are from populations with equal variances. It is more robust than \n",
    "# Fischer(needs to be Gaussian) and Barlett\n",
    "print('Statistics=%.3f, p=%.3f' % (stat, p_value))\n",
    "# interpret\n",
    "alpha = 0.05\n",
    "if p_value < alpha:\n",
    "    print('Reject the null hypothesis that Var(X) == Var(Y), then they are independents')"
   ]
  },
  {
   "cell_type": "code",
   "execution_count": 142,
   "metadata": {
    "ExecuteTime": {
     "end_time": "2019-11-12T19:13:05.120539Z",
     "start_time": "2019-11-12T19:13:05.093554Z"
    }
   },
   "outputs": [
    {
     "name": "stdout",
     "output_type": "stream",
     "text": [
      "Statistics=-2.787, p=0.005\n",
      "Different distributions (reject H0)\n"
     ]
    }
   ],
   "source": [
    "\n",
    "# Student's t-test\n",
    "\n",
    "from scipy.stats import ttest_ind\n",
    "# seed the random number generator\n",
    "\n",
    "# generate two independent samples\n",
    "data1 = GEN['opinions']\n",
    "data2 = REV['opinions']\n",
    "# compare samples\n",
    "stat, p = ttest_ind(data1, data2)\n",
    "print('Statistics=%.3f, p=%.3f' % (stat, p))\n",
    "# interpret\n",
    "alpha = 0.05\n",
    "if p > alpha:\n",
    "\tprint('Same distributions (fail to reject H0)')\n",
    "else:\n",
    "\tprint('Different distributions (reject H0)')"
   ]
  },
  {
   "cell_type": "code",
   "execution_count": 160,
   "metadata": {
    "ExecuteTime": {
     "end_time": "2019-11-12T19:59:04.063559Z",
     "start_time": "2019-11-12T19:59:04.042983Z"
    }
   },
   "outputs": [
    {
     "data": {
      "text/plain": [
       "Ttest_indResult(statistic=-2.7867754000904474, pvalue=0.005377515366691982)"
      ]
     },
     "execution_count": 160,
     "metadata": {},
     "output_type": "execute_result"
    },
    {
     "data": {
      "text/plain": [
       "0.2459738282720824"
      ]
     },
     "execution_count": 160,
     "metadata": {},
     "output_type": "execute_result"
    },
    {
     "data": {
      "text/plain": [
       "0.26454338269987215"
      ]
     },
     "execution_count": 160,
     "metadata": {},
     "output_type": "execute_result"
    }
   ],
   "source": [
    "from scipy.stats import ttest_ind\n",
    "# t-test ind ependent\n",
    "# # H0: μ1 >= μ2\n",
    "# les variances ens diuen que son iguals\n",
    "alpha2 = 0.025\n",
    "ttest_ind(data1, data2)#, equal_var=True)\n",
    "np.std(data1)\n",
    "np.std(data2)"
   ]
  },
  {
   "cell_type": "code",
   "execution_count": null,
   "metadata": {},
   "outputs": [],
   "source": []
  }
 ],
 "metadata": {
  "kernelspec": {
   "display_name": "Python 3",
   "language": "python",
   "name": "python3"
  },
  "language_info": {
   "codemirror_mode": {
    "name": "ipython",
    "version": 3
   },
   "file_extension": ".py",
   "mimetype": "text/x-python",
   "name": "python",
   "nbconvert_exporter": "python",
   "pygments_lexer": "ipython3",
   "version": "3.6.8"
  },
  "toc": {
   "base_numbering": 1,
   "nav_menu": {},
   "number_sections": false,
   "sideBar": true,
   "skip_h1_title": false,
   "title_cell": "Table of Contents",
   "title_sidebar": "Contents",
   "toc_cell": false,
   "toc_position": {},
   "toc_section_display": true,
   "toc_window_display": false
  },
  "varInspector": {
   "cols": {
    "lenName": 16,
    "lenType": 16,
    "lenVar": 40
   },
   "kernels_config": {
    "python": {
     "delete_cmd_postfix": "",
     "delete_cmd_prefix": "del ",
     "library": "var_list.py",
     "varRefreshCmd": "print(var_dic_list())"
    },
    "r": {
     "delete_cmd_postfix": ") ",
     "delete_cmd_prefix": "rm(",
     "library": "var_list.r",
     "varRefreshCmd": "cat(var_dic_list()) "
    }
   },
   "types_to_exclude": [
    "module",
    "function",
    "builtin_function_or_method",
    "instance",
    "_Feature"
   ],
   "window_display": false
  }
 },
 "nbformat": 4,
 "nbformat_minor": 2
}
