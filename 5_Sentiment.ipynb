{
 "cells": [
  {
   "cell_type": "code",
   "execution_count": 1,
   "metadata": {
    "ExecuteTime": {
     "end_time": "2019-11-19T18:53:24.265414Z",
     "start_time": "2019-11-19T18:53:23.065595Z"
    }
   },
   "outputs": [],
   "source": [
    "import pandas as pd\n",
    "import numpy as np\n",
    "\n",
    "pd.set_option('display.max_columns', None)\n",
    "pd.set_option('display.max_rows', None)\n",
    "from IPython.core.interactiveshell import InteractiveShell\n",
    "InteractiveShell.ast_node_interactivity = 'all'\n"
   ]
  },
  {
   "cell_type": "code",
   "execution_count": 2,
   "metadata": {
    "ExecuteTime": {
     "end_time": "2019-11-19T18:53:26.198666Z",
     "start_time": "2019-11-19T18:53:25.043450Z"
    }
   },
   "outputs": [],
   "source": [
    "import matplotlib.pyplot as plt\n",
    "import seaborn as sns\n",
    "%matplotlib inline\n",
    "#%timeit ,  line_profiler, memory_profiler"
   ]
  },
  {
   "cell_type": "code",
   "execution_count": null,
   "metadata": {},
   "outputs": [],
   "source": []
  },
  {
   "cell_type": "code",
   "execution_count": 3,
   "metadata": {
    "ExecuteTime": {
     "end_time": "2019-11-19T18:53:28.681568Z",
     "start_time": "2019-11-19T18:53:27.295835Z"
    }
   },
   "outputs": [],
   "source": [
    "import nltk\n",
    "from nltk import pos_tag, word_tokenize\n",
    "from nltk.collocations import *\n",
    "import re"
   ]
  },
  {
   "cell_type": "code",
   "execution_count": 6,
   "metadata": {
    "ExecuteTime": {
     "end_time": "2019-11-19T18:54:57.020687Z",
     "start_time": "2019-11-19T18:54:56.943367Z"
    }
   },
   "outputs": [
    {
     "data": {
      "text/html": [
       "<div>\n",
       "<style scoped>\n",
       "    .dataframe tbody tr th:only-of-type {\n",
       "        vertical-align: middle;\n",
       "    }\n",
       "\n",
       "    .dataframe tbody tr th {\n",
       "        vertical-align: top;\n",
       "    }\n",
       "\n",
       "    .dataframe thead th {\n",
       "        text-align: right;\n",
       "    }\n",
       "</style>\n",
       "<table border=\"1\" class=\"dataframe\">\n",
       "  <thead>\n",
       "    <tr style=\"text-align: right;\">\n",
       "      <th></th>\n",
       "      <th>level</th>\n",
       "      <th>orient</th>\n",
       "      <th>lemma</th>\n",
       "      <th>pos</th>\n",
       "      <th>pol</th>\n",
       "      <th>std</th>\n",
       "    </tr>\n",
       "  </thead>\n",
       "  <tbody>\n",
       "    <tr>\n",
       "      <th>0</th>\n",
       "      <td>1</td>\n",
       "      <td>positive</td>\n",
       "      <td>acertado</td>\n",
       "      <td>a</td>\n",
       "      <td>0.708</td>\n",
       "      <td>0.149</td>\n",
       "    </tr>\n",
       "    <tr>\n",
       "      <th>1</th>\n",
       "      <td>1</td>\n",
       "      <td>positive</td>\n",
       "      <td>admirable</td>\n",
       "      <td>a</td>\n",
       "      <td>0.906</td>\n",
       "      <td>0.125</td>\n",
       "    </tr>\n",
       "    <tr>\n",
       "      <th>2</th>\n",
       "      <td>1</td>\n",
       "      <td>positive</td>\n",
       "      <td>admiración</td>\n",
       "      <td>n</td>\n",
       "      <td>0.450</td>\n",
       "      <td>0.331</td>\n",
       "    </tr>\n",
       "    <tr>\n",
       "      <th>3</th>\n",
       "      <td>1</td>\n",
       "      <td>positive</td>\n",
       "      <td>admirar</td>\n",
       "      <td>v</td>\n",
       "      <td>0.750</td>\n",
       "      <td>0.177</td>\n",
       "    </tr>\n",
       "    <tr>\n",
       "      <th>4</th>\n",
       "      <td>1</td>\n",
       "      <td>positive</td>\n",
       "      <td>afectivo</td>\n",
       "      <td>a</td>\n",
       "      <td>0.375</td>\n",
       "      <td>0.000</td>\n",
       "    </tr>\n",
       "  </tbody>\n",
       "</table>\n",
       "</div>"
      ],
      "text/plain": [
       "   level    orient       lemma pos    pol    std\n",
       "0      1  positive    acertado   a  0.708  0.149\n",
       "1      1  positive   admirable   a  0.906  0.125\n",
       "2      1  positive  admiración   n  0.450  0.331\n",
       "3      1  positive     admirar   v  0.750  0.177\n",
       "4      1  positive    afectivo   a  0.375  0.000"
      ]
     },
     "execution_count": 6,
     "metadata": {},
     "output_type": "execute_result"
    }
   ],
   "source": [
    "#polar = pd.read_csv('AFINN-111.txt', sep=\"\\t\", header=None)\n",
    "polar = pd.read_csv('data/senticon_es.csv')\n",
    "polar.head()#.columns = [\"polaritat\", \"valor\"]"
   ]
  },
  {
   "cell_type": "code",
   "execution_count": 7,
   "metadata": {
    "ExecuteTime": {
     "end_time": "2019-11-19T18:54:58.731251Z",
     "start_time": "2019-11-19T18:54:58.695329Z"
    }
   },
   "outputs": [
    {
     "data": {
      "text/html": [
       "<div>\n",
       "<style scoped>\n",
       "    .dataframe tbody tr th:only-of-type {\n",
       "        vertical-align: middle;\n",
       "    }\n",
       "\n",
       "    .dataframe tbody tr th {\n",
       "        vertical-align: top;\n",
       "    }\n",
       "\n",
       "    .dataframe thead th {\n",
       "        text-align: right;\n",
       "    }\n",
       "</style>\n",
       "<table border=\"1\" class=\"dataframe\">\n",
       "  <thead>\n",
       "    <tr style=\"text-align: right;\">\n",
       "      <th></th>\n",
       "      <th>book</th>\n",
       "      <th>chapter</th>\n",
       "      <th>verse</th>\n",
       "      <th>text</th>\n",
       "      <th>version</th>\n",
       "    </tr>\n",
       "  </thead>\n",
       "  <tbody>\n",
       "    <tr>\n",
       "      <th>0</th>\n",
       "      <td>GEN</td>\n",
       "      <td>1</td>\n",
       "      <td>1</td>\n",
       "      <td>Dios, en el principio, creó los cielos y la ti...</td>\n",
       "      <td>NVI</td>\n",
       "    </tr>\n",
       "    <tr>\n",
       "      <th>1</th>\n",
       "      <td>GEN</td>\n",
       "      <td>1</td>\n",
       "      <td>2</td>\n",
       "      <td>La tierra era un caos total, las tinieblas cub...</td>\n",
       "      <td>NVI</td>\n",
       "    </tr>\n",
       "    <tr>\n",
       "      <th>2</th>\n",
       "      <td>GEN</td>\n",
       "      <td>1</td>\n",
       "      <td>3</td>\n",
       "      <td>Y dijo Dios: «¡ Que exista la luz ! »Y la luz ...</td>\n",
       "      <td>NVI</td>\n",
       "    </tr>\n",
       "    <tr>\n",
       "      <th>3</th>\n",
       "      <td>GEN</td>\n",
       "      <td>1</td>\n",
       "      <td>4</td>\n",
       "      <td>Dios consideró que la luz era buena y la separ...</td>\n",
       "      <td>NVI</td>\n",
       "    </tr>\n",
       "    <tr>\n",
       "      <th>4</th>\n",
       "      <td>GEN</td>\n",
       "      <td>1</td>\n",
       "      <td>5</td>\n",
       "      <td>A la luz la llamó «día», y a las tinieblas, «n...</td>\n",
       "      <td>NVI</td>\n",
       "    </tr>\n",
       "  </tbody>\n",
       "</table>\n",
       "</div>"
      ],
      "text/plain": [
       "  book  chapter  verse                                               text  \\\n",
       "0  GEN        1      1  Dios, en el principio, creó los cielos y la ti...   \n",
       "1  GEN        1      2  La tierra era un caos total, las tinieblas cub...   \n",
       "2  GEN        1      3  Y dijo Dios: «¡ Que exista la luz ! »Y la luz ...   \n",
       "3  GEN        1      4  Dios consideró que la luz era buena y la separ...   \n",
       "4  GEN        1      5  A la luz la llamó «día», y a las tinieblas, «n...   \n",
       "\n",
       "  version  \n",
       "0     NVI  \n",
       "1     NVI  \n",
       "2     NVI  \n",
       "3     NVI  \n",
       "4     NVI  "
      ]
     },
     "execution_count": 7,
     "metadata": {},
     "output_type": "execute_result"
    },
    {
     "data": {
      "text/html": [
       "<div>\n",
       "<style scoped>\n",
       "    .dataframe tbody tr th:only-of-type {\n",
       "        vertical-align: middle;\n",
       "    }\n",
       "\n",
       "    .dataframe tbody tr th {\n",
       "        vertical-align: top;\n",
       "    }\n",
       "\n",
       "    .dataframe thead th {\n",
       "        text-align: right;\n",
       "    }\n",
       "</style>\n",
       "<table border=\"1\" class=\"dataframe\">\n",
       "  <thead>\n",
       "    <tr style=\"text-align: right;\">\n",
       "      <th></th>\n",
       "      <th>book</th>\n",
       "      <th>chapter</th>\n",
       "      <th>verse</th>\n",
       "      <th>text</th>\n",
       "      <th>version</th>\n",
       "    </tr>\n",
       "  </thead>\n",
       "  <tbody>\n",
       "    <tr>\n",
       "      <th>0</th>\n",
       "      <td>REV</td>\n",
       "      <td>1</td>\n",
       "      <td>1</td>\n",
       "      <td>Esta es la revelación de Jesucristo, que Dios ...</td>\n",
       "      <td>NVI</td>\n",
       "    </tr>\n",
       "    <tr>\n",
       "      <th>1</th>\n",
       "      <td>REV</td>\n",
       "      <td>1</td>\n",
       "      <td>2</td>\n",
       "      <td>quien por su parte da fe de la verdad, escribi...</td>\n",
       "      <td>NVI</td>\n",
       "    </tr>\n",
       "    <tr>\n",
       "      <th>2</th>\n",
       "      <td>REV</td>\n",
       "      <td>1</td>\n",
       "      <td>3</td>\n",
       "      <td>Dichoso el que lee y dichosos los que escuchan...</td>\n",
       "      <td>NVI</td>\n",
       "    </tr>\n",
       "    <tr>\n",
       "      <th>3</th>\n",
       "      <td>REV</td>\n",
       "      <td>1</td>\n",
       "      <td>4</td>\n",
       "      <td>Yo, Juan, escribo a las siete iglesias que est...</td>\n",
       "      <td>NVI</td>\n",
       "    </tr>\n",
       "    <tr>\n",
       "      <th>4</th>\n",
       "      <td>REV</td>\n",
       "      <td>1</td>\n",
       "      <td>5</td>\n",
       "      <td>y de parte de Jesucristo, el testigo fiel, el ...</td>\n",
       "      <td>NVI</td>\n",
       "    </tr>\n",
       "  </tbody>\n",
       "</table>\n",
       "</div>"
      ],
      "text/plain": [
       "  book  chapter  verse                                               text  \\\n",
       "0  REV        1      1  Esta es la revelación de Jesucristo, que Dios ...   \n",
       "1  REV        1      2  quien por su parte da fe de la verdad, escribi...   \n",
       "2  REV        1      3  Dichoso el que lee y dichosos los que escuchan...   \n",
       "3  REV        1      4  Yo, Juan, escribo a las siete iglesias que est...   \n",
       "4  REV        1      5  y de parte de Jesucristo, el testigo fiel, el ...   \n",
       "\n",
       "  version  \n",
       "0     NVI  \n",
       "1     NVI  \n",
       "2     NVI  \n",
       "3     NVI  \n",
       "4     NVI  "
      ]
     },
     "execution_count": 7,
     "metadata": {},
     "output_type": "execute_result"
    }
   ],
   "source": [
    "GEN = pd.read_csv('data/1_GEN_clean.csv')\n",
    "GEN.head()\n",
    "REV = pd.read_csv('data/66_REV_clean.csv')\n",
    "REV.head()"
   ]
  },
  {
   "cell_type": "code",
   "execution_count": 8,
   "metadata": {
    "ExecuteTime": {
     "end_time": "2019-11-19T18:55:00.573513Z",
     "start_time": "2019-11-19T18:55:00.569089Z"
    }
   },
   "outputs": [],
   "source": [
    "list_gen = GEN.text.to_list()\n",
    "list_rev = REV.text.to_list()"
   ]
  },
  {
   "cell_type": "code",
   "execution_count": 9,
   "metadata": {
    "ExecuteTime": {
     "end_time": "2019-11-19T18:55:02.460436Z",
     "start_time": "2019-11-19T18:55:02.450266Z"
    }
   },
   "outputs": [
    {
     "data": {
      "text/plain": [
       "['Dios, en el principio, creó los cielos y la tierra.',\n",
       " 'La tierra era un caos total, las tinieblas cubrían el abismo, y el Espíritu de Dios se movía sobre la superficie de las aguas.']"
      ]
     },
     "execution_count": 9,
     "metadata": {},
     "output_type": "execute_result"
    },
    {
     "data": {
      "text/plain": [
       "['Esta es la revelación de Jesucristo, que Dios le dio para mostrar a sus siervos lo que sin demora tiene que suceder. Jesucristo envió a su ángel para dar a conocer la revelación a su siervo Juan, ',\n",
       " 'quien por su parte da fe de la verdad, escribiendo todo lo que vio, a saber, la palabra de Dios y el testimonio de Jesucristo. ']"
      ]
     },
     "execution_count": 9,
     "metadata": {},
     "output_type": "execute_result"
    }
   ],
   "source": [
    "list_gen[:2]\n",
    "list_rev[:2]"
   ]
  },
  {
   "cell_type": "code",
   "execution_count": 10,
   "metadata": {
    "ExecuteTime": {
     "end_time": "2019-11-19T18:55:12.656243Z",
     "start_time": "2019-11-19T18:55:12.650283Z"
    }
   },
   "outputs": [],
   "source": [
    "def candidates(list_sentences):\n",
    "    sh_tag = [ tag_tokenizer(line) for line in(list_sentences)]\n",
    "    sh_np = [t for t in(sh_tag)]\n",
    "    sh_words = to_words(sh_np)\n",
    "    return sh_words"
   ]
  },
  {
   "cell_type": "code",
   "execution_count": 11,
   "metadata": {
    "ExecuteTime": {
     "end_time": "2019-11-19T18:55:14.514762Z",
     "start_time": "2019-11-19T18:55:14.508122Z"
    }
   },
   "outputs": [],
   "source": [
    "from nltk.tokenize import RegexpTokenizer\n",
    "tokenizer = RegexpTokenizer(r'\\w+')\n",
    "\n",
    "def get_tokens(text):\n",
    "    # aquest tokenizer extreurà els caracters de puntuació\n",
    "    return tokenizer.tokenize(text.lower())\n",
    "\n",
    "def token_filter(tokens):\n",
    "    stop_words = nltk.corpus.stopwords.words('spanish')\n",
    "    word_tokens = [word for word in tokens if word not in stop_words and re.match('[a-zA-Z\\-][a-zA-Z\\-]{2,}',word)]\n",
    "    return word_tokens\n",
    "\n",
    "def tag_tokenizer(text):\n",
    "    tokens = get_tokens(text)\n",
    "    tokens = token_filter(tokens)\n",
    "    tagged_tokens = tagged_pos(tokens)\n",
    "    return tagged_tokens\n",
    "\n",
    "def tagged_pos(tokens):\n",
    "    tagged_tokens = nltk.pos_tag(tokens)\n",
    "    return tagged_tokens"
   ]
  },
  {
   "cell_type": "code",
   "execution_count": 12,
   "metadata": {
    "ExecuteTime": {
     "end_time": "2019-11-19T18:55:16.325082Z",
     "start_time": "2019-11-19T18:55:16.318469Z"
    }
   },
   "outputs": [],
   "source": [
    "def to_words(data_list):\n",
    "    ret=[]\n",
    "    for line in(data_list):\n",
    "        med=[]\n",
    "        for w in line:\n",
    "            #print(w)\n",
    "            tx=''\n",
    "            for el in w:\n",
    "                if type(el) is tuple:\n",
    "                    tx += \" \"+el[0]\n",
    "                else:\n",
    "                    tx=w[0]\n",
    "            tx = tx.strip()\n",
    "            med.append(tx)\n",
    "        if len(med)>0:\n",
    "               ret.append(med)\n",
    "    return ret"
   ]
  },
  {
   "cell_type": "code",
   "execution_count": 13,
   "metadata": {
    "ExecuteTime": {
     "end_time": "2019-11-19T18:55:18.236126Z",
     "start_time": "2019-11-19T18:55:18.128215Z"
    }
   },
   "outputs": [
    {
     "data": {
      "text/plain": [
       "[('dios', 'NNS'),\n",
       " ('principio', 'VBP'),\n",
       " ('creó', 'JJ'),\n",
       " ('cielos', 'NN'),\n",
       " ('tierra', 'NN')]"
      ]
     },
     "execution_count": 13,
     "metadata": {},
     "output_type": "execute_result"
    }
   ],
   "source": [
    "t1 = tag_tokenizer(list_gen[0])\n",
    "t1"
   ]
  },
  {
   "cell_type": "code",
   "execution_count": 14,
   "metadata": {
    "ExecuteTime": {
     "end_time": "2019-11-19T18:55:21.852239Z",
     "start_time": "2019-11-19T18:55:20.079491Z"
    },
    "scrolled": false
   },
   "outputs": [],
   "source": [
    "cand_gen = candidates(list_gen)"
   ]
  },
  {
   "cell_type": "code",
   "execution_count": 15,
   "metadata": {
    "ExecuteTime": {
     "end_time": "2019-11-19T18:55:24.420187Z",
     "start_time": "2019-11-19T18:55:23.809740Z"
    }
   },
   "outputs": [
    {
     "data": {
      "text/plain": [
       "382"
      ]
     },
     "execution_count": 15,
     "metadata": {},
     "output_type": "execute_result"
    },
    {
     "data": {
      "text/plain": [
       "382"
      ]
     },
     "execution_count": 15,
     "metadata": {},
     "output_type": "execute_result"
    }
   ],
   "source": [
    "len(list_rev)\n",
    "\n",
    "cand_rev = candidates(list_rev)\n",
    "\n",
    "len(cand_rev)"
   ]
  },
  {
   "cell_type": "code",
   "execution_count": 16,
   "metadata": {
    "ExecuteTime": {
     "end_time": "2019-11-19T18:55:26.350267Z",
     "start_time": "2019-11-19T18:55:26.340840Z"
    }
   },
   "outputs": [
    {
     "data": {
      "text/plain": [
       "[['dios', 'principio', 'creó', 'cielos', 'tierra'],\n",
       " ['tierra',\n",
       "  'caos',\n",
       "  'total',\n",
       "  'tinieblas',\n",
       "  'cubrían',\n",
       "  'abismo',\n",
       "  'espíritu',\n",
       "  'dios',\n",
       "  'movía',\n",
       "  'superficie',\n",
       "  'aguas']]"
      ]
     },
     "execution_count": 16,
     "metadata": {},
     "output_type": "execute_result"
    },
    {
     "data": {
      "text/plain": [
       "[['revelación',\n",
       "  'jesucristo',\n",
       "  'dios',\n",
       "  'dio',\n",
       "  'mostrar',\n",
       "  'siervos',\n",
       "  'demora',\n",
       "  'suceder',\n",
       "  'jesucristo',\n",
       "  'envió',\n",
       "  'dar',\n",
       "  'conocer',\n",
       "  'revelación',\n",
       "  'siervo',\n",
       "  'juan'],\n",
       " ['parte',\n",
       "  'verdad',\n",
       "  'escribiendo',\n",
       "  'vio',\n",
       "  'saber',\n",
       "  'palabra',\n",
       "  'dios',\n",
       "  'testimonio',\n",
       "  'jesucristo']]"
      ]
     },
     "execution_count": 16,
     "metadata": {},
     "output_type": "execute_result"
    }
   ],
   "source": [
    "cand_gen[:2]\n",
    "cand_rev[:2]"
   ]
  },
  {
   "cell_type": "code",
   "execution_count": 17,
   "metadata": {
    "ExecuteTime": {
     "end_time": "2019-11-19T18:55:28.096356Z",
     "start_time": "2019-11-19T18:55:28.089566Z"
    }
   },
   "outputs": [],
   "source": [
    "def calculate_mean_opinions(polar, candidats):\n",
    "    ret=[]\n",
    "    diccio = dict(zip(polar.lemma, polar.pol))\n",
    "    for i,text in enumerate(candidats):\n",
    "        mitj = 0\n",
    "        val = 0\n",
    "        count_opinion = 0\n",
    "        #print('text:'+\" \".join(text))\n",
    "        for j,word in enumerate(text):\n",
    "            #print(word)\n",
    "            if diccio.get(word) == None:\n",
    "                val = 0\n",
    "                #print('not in dic')\n",
    "            else: \n",
    "                val = diccio.get(word)\n",
    "                count_opinion += 1\n",
    "            mitj += val\n",
    "        #print('m='+str(mitj))\n",
    "        if count_opinion:\n",
    "            ret.append ( float(mitj/count_opinion))\n",
    "        else:\n",
    "            ret.append(0)\n",
    "    print('n='+str(i))    \n",
    "    return ret"
   ]
  },
  {
   "cell_type": "code",
   "execution_count": null,
   "metadata": {},
   "outputs": [],
   "source": []
  },
  {
   "cell_type": "code",
   "execution_count": 18,
   "metadata": {
    "ExecuteTime": {
     "end_time": "2019-11-19T18:55:29.949660Z",
     "start_time": "2019-11-19T18:55:29.933903Z"
    }
   },
   "outputs": [
    {
     "name": "stdout",
     "output_type": "stream",
     "text": [
      "n=1482\n"
     ]
    }
   ],
   "source": [
    "opinions_gen = calculate_mean_opinions(polar, cand_gen)"
   ]
  },
  {
   "cell_type": "code",
   "execution_count": 19,
   "metadata": {
    "ExecuteTime": {
     "end_time": "2019-11-19T18:55:31.808126Z",
     "start_time": "2019-11-19T18:55:31.801205Z"
    }
   },
   "outputs": [
    {
     "data": {
      "text/plain": [
       "382"
      ]
     },
     "execution_count": 19,
     "metadata": {},
     "output_type": "execute_result"
    }
   ],
   "source": [
    "len(cand_rev)"
   ]
  },
  {
   "cell_type": "code",
   "execution_count": 20,
   "metadata": {
    "ExecuteTime": {
     "end_time": "2019-11-19T18:55:33.721379Z",
     "start_time": "2019-11-19T18:55:33.711568Z"
    }
   },
   "outputs": [
    {
     "name": "stdout",
     "output_type": "stream",
     "text": [
      "n=381\n"
     ]
    }
   ],
   "source": [
    "opinions_rev = calculate_mean_opinions(polar, cand_rev)"
   ]
  },
  {
   "cell_type": "code",
   "execution_count": 21,
   "metadata": {
    "ExecuteTime": {
     "end_time": "2019-11-19T18:55:35.478077Z",
     "start_time": "2019-11-19T18:55:35.469127Z"
    },
    "scrolled": true
   },
   "outputs": [
    {
     "data": {
      "text/plain": [
       "[0, -0.25, 0.25, 0, 0]"
      ]
     },
     "execution_count": 21,
     "metadata": {},
     "output_type": "execute_result"
    }
   ],
   "source": [
    "opinions_gen[:5]"
   ]
  },
  {
   "cell_type": "code",
   "execution_count": 22,
   "metadata": {
    "ExecuteTime": {
     "end_time": "2019-11-19T18:55:37.326475Z",
     "start_time": "2019-11-19T18:55:37.319813Z"
    }
   },
   "outputs": [
    {
     "data": {
      "text/plain": [
       "[0, 0.3, -0.3125, 0, 0.2333333333333333]"
      ]
     },
     "execution_count": 22,
     "metadata": {},
     "output_type": "execute_result"
    }
   ],
   "source": [
    "opinions_rev[:5]"
   ]
  },
  {
   "cell_type": "code",
   "execution_count": 23,
   "metadata": {
    "ExecuteTime": {
     "end_time": "2019-11-19T18:55:39.055864Z",
     "start_time": "2019-11-19T18:55:39.048166Z"
    }
   },
   "outputs": [],
   "source": [
    "GEN['opinions']=opinions_gen"
   ]
  },
  {
   "cell_type": "code",
   "execution_count": 24,
   "metadata": {
    "ExecuteTime": {
     "end_time": "2019-11-19T18:55:40.842206Z",
     "start_time": "2019-11-19T18:55:40.819429Z"
    }
   },
   "outputs": [
    {
     "data": {
      "text/html": [
       "<div>\n",
       "<style scoped>\n",
       "    .dataframe tbody tr th:only-of-type {\n",
       "        vertical-align: middle;\n",
       "    }\n",
       "\n",
       "    .dataframe tbody tr th {\n",
       "        vertical-align: top;\n",
       "    }\n",
       "\n",
       "    .dataframe thead th {\n",
       "        text-align: right;\n",
       "    }\n",
       "</style>\n",
       "<table border=\"1\" class=\"dataframe\">\n",
       "  <thead>\n",
       "    <tr style=\"text-align: right;\">\n",
       "      <th></th>\n",
       "      <th>book</th>\n",
       "      <th>chapter</th>\n",
       "      <th>verse</th>\n",
       "      <th>text</th>\n",
       "      <th>version</th>\n",
       "      <th>opinions</th>\n",
       "    </tr>\n",
       "  </thead>\n",
       "  <tbody>\n",
       "    <tr>\n",
       "      <th>0</th>\n",
       "      <td>GEN</td>\n",
       "      <td>1</td>\n",
       "      <td>1</td>\n",
       "      <td>Dios, en el principio, creó los cielos y la ti...</td>\n",
       "      <td>NVI</td>\n",
       "      <td>0.00</td>\n",
       "    </tr>\n",
       "    <tr>\n",
       "      <th>1</th>\n",
       "      <td>GEN</td>\n",
       "      <td>1</td>\n",
       "      <td>2</td>\n",
       "      <td>La tierra era un caos total, las tinieblas cub...</td>\n",
       "      <td>NVI</td>\n",
       "      <td>-0.25</td>\n",
       "    </tr>\n",
       "  </tbody>\n",
       "</table>\n",
       "</div>"
      ],
      "text/plain": [
       "  book  chapter  verse                                               text  \\\n",
       "0  GEN        1      1  Dios, en el principio, creó los cielos y la ti...   \n",
       "1  GEN        1      2  La tierra era un caos total, las tinieblas cub...   \n",
       "\n",
       "  version  opinions  \n",
       "0     NVI      0.00  \n",
       "1     NVI     -0.25  "
      ]
     },
     "execution_count": 24,
     "metadata": {},
     "output_type": "execute_result"
    }
   ],
   "source": [
    "GEN.head(2)"
   ]
  },
  {
   "cell_type": "code",
   "execution_count": 25,
   "metadata": {
    "ExecuteTime": {
     "end_time": "2019-11-19T18:55:42.847092Z",
     "start_time": "2019-11-19T18:55:42.836833Z"
    }
   },
   "outputs": [
    {
     "data": {
      "text/plain": [
       "382"
      ]
     },
     "execution_count": 25,
     "metadata": {},
     "output_type": "execute_result"
    },
    {
     "data": {
      "text/plain": [
       "382"
      ]
     },
     "execution_count": 25,
     "metadata": {},
     "output_type": "execute_result"
    }
   ],
   "source": [
    "len(REV)\n",
    "len(opinions_rev)"
   ]
  },
  {
   "cell_type": "code",
   "execution_count": 26,
   "metadata": {
    "ExecuteTime": {
     "end_time": "2019-11-19T18:55:44.805584Z",
     "start_time": "2019-11-19T18:55:44.787031Z"
    }
   },
   "outputs": [],
   "source": [
    "REV['opinions']=opinions_rev"
   ]
  },
  {
   "cell_type": "code",
   "execution_count": 33,
   "metadata": {
    "ExecuteTime": {
     "end_time": "2019-11-19T19:00:37.914161Z",
     "start_time": "2019-11-19T19:00:37.855191Z"
    }
   },
   "outputs": [
    {
     "data": {
      "text/html": [
       "<div>\n",
       "<style scoped>\n",
       "    .dataframe tbody tr th:only-of-type {\n",
       "        vertical-align: middle;\n",
       "    }\n",
       "\n",
       "    .dataframe tbody tr th {\n",
       "        vertical-align: top;\n",
       "    }\n",
       "\n",
       "    .dataframe thead th {\n",
       "        text-align: right;\n",
       "    }\n",
       "</style>\n",
       "<table border=\"1\" class=\"dataframe\">\n",
       "  <thead>\n",
       "    <tr style=\"text-align: right;\">\n",
       "      <th></th>\n",
       "      <th>book</th>\n",
       "      <th>chapter</th>\n",
       "      <th>verse</th>\n",
       "      <th>text</th>\n",
       "      <th>version</th>\n",
       "      <th>opinions</th>\n",
       "    </tr>\n",
       "  </thead>\n",
       "  <tbody>\n",
       "    <tr>\n",
       "      <th>65</th>\n",
       "      <td>REV</td>\n",
       "      <td>3</td>\n",
       "      <td>19</td>\n",
       "      <td>Yo reprendo y disciplino a todos los que amo. ...</td>\n",
       "      <td>NVI</td>\n",
       "      <td>0.75</td>\n",
       "    </tr>\n",
       "    <tr>\n",
       "      <th>195</th>\n",
       "      <td>REV</td>\n",
       "      <td>12</td>\n",
       "      <td>13</td>\n",
       "      <td>Cuando el dragón se vio arrojado a la tierra, ...</td>\n",
       "      <td>NVI</td>\n",
       "      <td>0.75</td>\n",
       "    </tr>\n",
       "    <tr>\n",
       "      <th>198</th>\n",
       "      <td>REV</td>\n",
       "      <td>12</td>\n",
       "      <td>16</td>\n",
       "      <td>Pero la tierra ayudó a la mujer: abrió la boca...</td>\n",
       "      <td>NVI</td>\n",
       "      <td>0.75</td>\n",
       "    </tr>\n",
       "    <tr>\n",
       "      <th>361</th>\n",
       "      <td>REV</td>\n",
       "      <td>21</td>\n",
       "      <td>26</td>\n",
       "      <td>Y llevarán a ella todas las riquezas y el hono...</td>\n",
       "      <td>NVI</td>\n",
       "      <td>0.75</td>\n",
       "    </tr>\n",
       "  </tbody>\n",
       "</table>\n",
       "</div>"
      ],
      "text/plain": [
       "    book  chapter  verse                                               text  \\\n",
       "65   REV        3     19  Yo reprendo y disciplino a todos los que amo. ...   \n",
       "195  REV       12     13  Cuando el dragón se vio arrojado a la tierra, ...   \n",
       "198  REV       12     16  Pero la tierra ayudó a la mujer: abrió la boca...   \n",
       "361  REV       21     26  Y llevarán a ella todas las riquezas y el hono...   \n",
       "\n",
       "    version  opinions  \n",
       "65      NVI      0.75  \n",
       "195     NVI      0.75  \n",
       "198     NVI      0.75  \n",
       "361     NVI      0.75  "
      ]
     },
     "execution_count": 33,
     "metadata": {},
     "output_type": "execute_result"
    },
    {
     "data": {
      "text/html": [
       "<div>\n",
       "<style scoped>\n",
       "    .dataframe tbody tr th:only-of-type {\n",
       "        vertical-align: middle;\n",
       "    }\n",
       "\n",
       "    .dataframe tbody tr th {\n",
       "        vertical-align: top;\n",
       "    }\n",
       "\n",
       "    .dataframe thead th {\n",
       "        text-align: right;\n",
       "    }\n",
       "</style>\n",
       "<table border=\"1\" class=\"dataframe\">\n",
       "  <thead>\n",
       "    <tr style=\"text-align: right;\">\n",
       "      <th></th>\n",
       "      <th>book</th>\n",
       "      <th>chapter</th>\n",
       "      <th>verse</th>\n",
       "      <th>text</th>\n",
       "      <th>version</th>\n",
       "      <th>opinions</th>\n",
       "    </tr>\n",
       "  </thead>\n",
       "  <tbody>\n",
       "    <tr>\n",
       "      <th>335</th>\n",
       "      <td>REV</td>\n",
       "      <td>20</td>\n",
       "      <td>14</td>\n",
       "      <td>La muerte y el infierno fueron arrojados al la...</td>\n",
       "      <td>NVI</td>\n",
       "      <td>-0.8</td>\n",
       "    </tr>\n",
       "  </tbody>\n",
       "</table>\n",
       "</div>"
      ],
      "text/plain": [
       "    book  chapter  verse                                               text  \\\n",
       "335  REV       20     14  La muerte y el infierno fueron arrojados al la...   \n",
       "\n",
       "    version  opinions  \n",
       "335     NVI      -0.8  "
      ]
     },
     "execution_count": 33,
     "metadata": {},
     "output_type": "execute_result"
    },
    {
     "data": {
      "text/plain": [
       "['Yo reprendo y disciplino a todos los que amo. Por lo tanto, sé fervoroso y arrepiéntete. ',\n",
       " 'Cuando el dragón se vio arrojado a la tierra, persiguió a la mujer que había dado a luz al varón. ',\n",
       " 'Pero la tierra ayudó a la mujer: abrió la boca y se tragó el río que el dragón había arrojado por sus fauces. ',\n",
       " 'Y llevarán a ella todas las riquezas y el honor de las naciones. ']"
      ]
     },
     "execution_count": 33,
     "metadata": {},
     "output_type": "execute_result"
    },
    {
     "data": {
      "text/plain": [
       "['La muerte y el infierno fueron arrojados al lago de fuego. Este lago de fuego es la muerte segunda. ']"
      ]
     },
     "execution_count": 33,
     "metadata": {},
     "output_type": "execute_result"
    }
   ],
   "source": [
    "bestR = REV[REV['opinions']==REV['opinions'].max()]\n",
    "badR = REV[REV['opinions']==REV['opinions'].min()]\n",
    "bestR\n",
    "badR\n",
    "bestR.text.to_list()\n",
    "badR.text.to_list()"
   ]
  },
  {
   "cell_type": "code",
   "execution_count": 37,
   "metadata": {
    "ExecuteTime": {
     "end_time": "2019-11-19T19:03:02.771329Z",
     "start_time": "2019-11-19T19:03:02.733142Z"
    }
   },
   "outputs": [
    {
     "data": {
      "text/html": [
       "<div>\n",
       "<style scoped>\n",
       "    .dataframe tbody tr th:only-of-type {\n",
       "        vertical-align: middle;\n",
       "    }\n",
       "\n",
       "    .dataframe tbody tr th {\n",
       "        vertical-align: top;\n",
       "    }\n",
       "\n",
       "    .dataframe thead th {\n",
       "        text-align: right;\n",
       "    }\n",
       "</style>\n",
       "<table border=\"1\" class=\"dataframe\">\n",
       "  <thead>\n",
       "    <tr style=\"text-align: right;\">\n",
       "      <th></th>\n",
       "      <th>book</th>\n",
       "      <th>chapter</th>\n",
       "      <th>verse</th>\n",
       "      <th>text</th>\n",
       "      <th>version</th>\n",
       "      <th>opinions</th>\n",
       "    </tr>\n",
       "  </thead>\n",
       "  <tbody>\n",
       "    <tr>\n",
       "      <th>1149</th>\n",
       "      <td>GEN</td>\n",
       "      <td>40</td>\n",
       "      <td>16</td>\n",
       "      <td>Al ver que la interpretación había sido favora...</td>\n",
       "      <td>NVI</td>\n",
       "      <td>0.844</td>\n",
       "    </tr>\n",
       "    <tr>\n",
       "      <th>1171</th>\n",
       "      <td>GEN</td>\n",
       "      <td>41</td>\n",
       "      <td>16</td>\n",
       "      <td>―No so y yo quien puede hacerlo —respondió Jos...</td>\n",
       "      <td>NVI</td>\n",
       "      <td>0.844</td>\n",
       "    </tr>\n",
       "  </tbody>\n",
       "</table>\n",
       "</div>"
      ],
      "text/plain": [
       "     book  chapter  verse                                               text  \\\n",
       "1149  GEN       40     16  Al ver que la interpretación había sido favora...   \n",
       "1171  GEN       41     16  ―No so y yo quien puede hacerlo —respondió Jos...   \n",
       "\n",
       "     version  opinions  \n",
       "1149     NVI     0.844  \n",
       "1171     NVI     0.844  "
      ]
     },
     "execution_count": 37,
     "metadata": {},
     "output_type": "execute_result"
    },
    {
     "data": {
      "text/html": [
       "<div>\n",
       "<style scoped>\n",
       "    .dataframe tbody tr th:only-of-type {\n",
       "        vertical-align: middle;\n",
       "    }\n",
       "\n",
       "    .dataframe tbody tr th {\n",
       "        vertical-align: top;\n",
       "    }\n",
       "\n",
       "    .dataframe thead th {\n",
       "        text-align: right;\n",
       "    }\n",
       "</style>\n",
       "<table border=\"1\" class=\"dataframe\">\n",
       "  <thead>\n",
       "    <tr style=\"text-align: right;\">\n",
       "      <th></th>\n",
       "      <th>book</th>\n",
       "      <th>chapter</th>\n",
       "      <th>verse</th>\n",
       "      <th>text</th>\n",
       "      <th>version</th>\n",
       "      <th>opinions</th>\n",
       "    </tr>\n",
       "  </thead>\n",
       "  <tbody>\n",
       "    <tr>\n",
       "      <th>660</th>\n",
       "      <td>GEN</td>\n",
       "      <td>25</td>\n",
       "      <td>26</td>\n",
       "      <td>Luego nació su hermano, agarrado con una mano ...</td>\n",
       "      <td>NVI</td>\n",
       "      <td>-0.875</td>\n",
       "    </tr>\n",
       "  </tbody>\n",
       "</table>\n",
       "</div>"
      ],
      "text/plain": [
       "    book  chapter  verse                                               text  \\\n",
       "660  GEN       25     26  Luego nació su hermano, agarrado con una mano ...   \n",
       "\n",
       "    version  opinions  \n",
       "660     NVI    -0.875  "
      ]
     },
     "execution_count": 37,
     "metadata": {},
     "output_type": "execute_result"
    },
    {
     "data": {
      "text/plain": [
       "['Al ver que la interpretación había sido favorable, el jefe de los panaderos le dijo a José: ―Yo también tuve un sueño. En ese sueño, llevaba yo tres canastas de pan sobre la cabeza. ',\n",
       " '―No so y yo quien puede hacerlo —respondió José—, sino que es Dios quien le dará al faraón una respuesta favorable.']"
      ]
     },
     "execution_count": 37,
     "metadata": {},
     "output_type": "execute_result"
    },
    {
     "data": {
      "text/plain": [
       "['Luego nació su hermano, agarrado con una mano del talón de Esaú. A este lo llamaron Jacob. Cuando nacieron los mellizos, Isaac tenía sesenta años.']"
      ]
     },
     "execution_count": 37,
     "metadata": {},
     "output_type": "execute_result"
    }
   ],
   "source": [
    "bestG = GEN[GEN['opinions']==GEN['opinions'].max()]\n",
    "badG = GEN[GEN['opinions']==GEN['opinions'].min()]\n",
    "bestG\n",
    "badG\n",
    "bestG.text.to_list()\n",
    "badG.text.to_list()"
   ]
  }
 ],
 "metadata": {
  "kernelspec": {
   "display_name": "Python 3",
   "language": "python",
   "name": "python3"
  },
  "language_info": {
   "codemirror_mode": {
    "name": "ipython",
    "version": 3
   },
   "file_extension": ".py",
   "mimetype": "text/x-python",
   "name": "python",
   "nbconvert_exporter": "python",
   "pygments_lexer": "ipython3",
   "version": "3.6.8"
  },
  "toc": {
   "base_numbering": 1,
   "nav_menu": {},
   "number_sections": false,
   "sideBar": true,
   "skip_h1_title": false,
   "title_cell": "Table of Contents",
   "title_sidebar": "Contents",
   "toc_cell": false,
   "toc_position": {},
   "toc_section_display": true,
   "toc_window_display": false
  },
  "varInspector": {
   "cols": {
    "lenName": 16,
    "lenType": 16,
    "lenVar": 40
   },
   "kernels_config": {
    "python": {
     "delete_cmd_postfix": "",
     "delete_cmd_prefix": "del ",
     "library": "var_list.py",
     "varRefreshCmd": "print(var_dic_list())"
    },
    "r": {
     "delete_cmd_postfix": ") ",
     "delete_cmd_prefix": "rm(",
     "library": "var_list.r",
     "varRefreshCmd": "cat(var_dic_list()) "
    }
   },
   "types_to_exclude": [
    "module",
    "function",
    "builtin_function_or_method",
    "instance",
    "_Feature"
   ],
   "window_display": false
  }
 },
 "nbformat": 4,
 "nbformat_minor": 2
}
