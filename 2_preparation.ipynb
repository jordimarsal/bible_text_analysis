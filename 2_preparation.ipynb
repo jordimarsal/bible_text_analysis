{
 "cells": [
  {
   "cell_type": "code",
   "execution_count": 1,
   "metadata": {
    "ExecuteTime": {
     "end_time": "2019-11-16T08:50:02.444031Z",
     "start_time": "2019-11-16T08:50:01.980505Z"
    }
   },
   "outputs": [],
   "source": [
    "import pandas as pd\n",
    "import numpy as np\n",
    "\n",
    "pd.set_option('display.max_columns', None)\n",
    "pd.set_option('display.max_rows', None)\n",
    "from IPython.core.interactiveshell import InteractiveShell\n",
    "InteractiveShell.ast_node_interactivity = 'all'\n",
    "\n",
    "import warnings\n",
    "warnings.simplefilter(\"ignore\")"
   ]
  },
  {
   "cell_type": "code",
   "execution_count": 2,
   "metadata": {
    "ExecuteTime": {
     "end_time": "2019-11-16T08:50:02.453547Z",
     "start_time": "2019-11-16T08:50:02.447168Z"
    }
   },
   "outputs": [],
   "source": [
    "# topic modeling\n",
    "# latent dirilect allocation python\n",
    "# LDAvis LDA visualization\n",
    "# Apocalipsys\n",
    "# named entity recognition\n",
    "# palabras claves\n",
    "# comparación entre libros tipo genesis-apocalipsys "
   ]
  },
  {
   "cell_type": "code",
   "execution_count": 3,
   "metadata": {
    "ExecuteTime": {
     "end_time": "2019-11-16T08:50:03.276865Z",
     "start_time": "2019-11-16T08:50:02.455103Z"
    }
   },
   "outputs": [],
   "source": [
    "import nltk\n",
    "from nltk import pos_tag, word_tokenize\n",
    "from nltk.collocations import *\n",
    "import re"
   ]
  },
  {
   "cell_type": "code",
   "execution_count": 4,
   "metadata": {
    "ExecuteTime": {
     "end_time": "2019-11-16T08:50:03.293277Z",
     "start_time": "2019-11-16T08:50:03.281252Z"
    }
   },
   "outputs": [],
   "source": [
    "class Separate():\n",
    "    def __init__(self,r2=[],ender=['y'], excep=[]):\n",
    "        self.r1=[',',';',':','!','¡','?','¿','.','-']\n",
    "        self.r2 = r2\n",
    "        self.ender = ender\n",
    "        self.excep = excep\n",
    "        \n",
    "    def _pattern(self):\n",
    "        return '(['+'|'.join(self.r1)+'])([a-zA-Z|\\S])'\n",
    "    \n",
    "    def _p2(self):\n",
    "        p2 = ['('+p+')([a-zA-Z|\\S])' for p in self.r2]\n",
    "        return p2\n",
    "    \n",
    "    def _end(self):\n",
    "        p2 = ['(\\w)('+p+' )' for p in self.ender]\n",
    "        return p2\n",
    "    \n",
    "    def add_separator(self, sep):\n",
    "        self.r2.append(sep)\n",
    "    \n",
    "    def get(self, text):\n",
    "        t = text\n",
    "        t = re.sub(self._pattern(), r'\\1 \\2', t)\n",
    "        if self.r2:\n",
    "            for pat in self._p2():\n",
    "                t = re.sub(pat, r'\\1 \\2', t)\n",
    "        if self.excep:\n",
    "            for i,pat in enumerate(self.excep):\n",
    "                t = re.sub(pat, 'EXC'+str(i), t)\n",
    "        if self.ender:\n",
    "            for pat in self._end():\n",
    "                t = re.sub(pat, r'\\1 \\2', t)\n",
    "        if self.excep:\n",
    "            for i,pat in enumerate(self.excep):\n",
    "                t = re.sub('EXC'+str(i), pat, t)                   \n",
    "        return t\n",
    "        \n",
    "separators = ['reyes','inexpertos','disciplina','gente','parábola','comunión','Dios'\n",
    "              'Señor','ladrón','devolver','corazón','padre','luz', 'movía','firmamento']\n",
    "exceptions = ['rey','hoy','doy']\n",
    "enders = ['y']\n",
    "\n",
    "sep = Separate(separators,excep=exceptions)\n"
   ]
  },
  {
   "cell_type": "code",
   "execution_count": 5,
   "metadata": {
    "ExecuteTime": {
     "end_time": "2019-11-16T08:50:03.313724Z",
     "start_time": "2019-11-16T08:50:03.296563Z"
    }
   },
   "outputs": [],
   "source": [
    "class ProcessDirty():\n",
    "    def __init__(self,book_name, csv):\n",
    "        self.df = pd.read_csv(csv)\n",
    "        self.csv = csv\n",
    "        self.book = book_name\n",
    "        self.sep = Separate(separators,excep=exceptions)\n",
    "        self.go()\n",
    "    \n",
    "    def sepa(self, val):\n",
    "        return self.sep.get(val)\n",
    "\n",
    "    def go(self):\n",
    "        self.df['text']=self.df['text'].apply(self.sepa)\n",
    "        display(self.df.head())\n",
    "    \n",
    "    def save(self):\n",
    "        savename = re.sub(\"\\.\", '_clean.', self.csv)\n",
    "        self.df.to_csv(savename,header=True,index=False)\n",
    "        print('Saved as '+savename)\n",
    "    \n",
    "    def get_df(self):\n",
    "        return self.df\n",
    "    "
   ]
  },
  {
   "cell_type": "code",
   "execution_count": 6,
   "metadata": {
    "ExecuteTime": {
     "end_time": "2019-11-16T08:50:03.393332Z",
     "start_time": "2019-11-16T08:50:03.317135Z"
    }
   },
   "outputs": [
    {
     "data": {
      "text/html": [
       "<div>\n",
       "<style scoped>\n",
       "    .dataframe tbody tr th:only-of-type {\n",
       "        vertical-align: middle;\n",
       "    }\n",
       "\n",
       "    .dataframe tbody tr th {\n",
       "        vertical-align: top;\n",
       "    }\n",
       "\n",
       "    .dataframe thead th {\n",
       "        text-align: right;\n",
       "    }\n",
       "</style>\n",
       "<table border=\"1\" class=\"dataframe\">\n",
       "  <thead>\n",
       "    <tr style=\"text-align: right;\">\n",
       "      <th></th>\n",
       "      <th>book</th>\n",
       "      <th>chapter</th>\n",
       "      <th>verse</th>\n",
       "      <th>text</th>\n",
       "      <th>version</th>\n",
       "    </tr>\n",
       "  </thead>\n",
       "  <tbody>\n",
       "    <tr>\n",
       "      <th>0</th>\n",
       "      <td>REV</td>\n",
       "      <td>1</td>\n",
       "      <td>1</td>\n",
       "      <td>Esta es la revelación de Jesucristo, que Dios ...</td>\n",
       "      <td>NVI</td>\n",
       "    </tr>\n",
       "    <tr>\n",
       "      <th>1</th>\n",
       "      <td>REV</td>\n",
       "      <td>1</td>\n",
       "      <td>2</td>\n",
       "      <td>quien por su parte da fe de la verdad, escribi...</td>\n",
       "      <td>NVI</td>\n",
       "    </tr>\n",
       "    <tr>\n",
       "      <th>2</th>\n",
       "      <td>REV</td>\n",
       "      <td>1</td>\n",
       "      <td>3</td>\n",
       "      <td>Dichoso el que lee y dichosos los que escuchan...</td>\n",
       "      <td>NVI</td>\n",
       "    </tr>\n",
       "    <tr>\n",
       "      <th>3</th>\n",
       "      <td>REV</td>\n",
       "      <td>1</td>\n",
       "      <td>4</td>\n",
       "      <td>Yo, Juan, escribo a las siete iglesias que est...</td>\n",
       "      <td>NVI</td>\n",
       "    </tr>\n",
       "    <tr>\n",
       "      <th>4</th>\n",
       "      <td>REV</td>\n",
       "      <td>1</td>\n",
       "      <td>5</td>\n",
       "      <td>y de parte de Jesucristo, el testigo fiel, el ...</td>\n",
       "      <td>NVI</td>\n",
       "    </tr>\n",
       "  </tbody>\n",
       "</table>\n",
       "</div>"
      ],
      "text/plain": [
       "  book  chapter  verse                                               text  \\\n",
       "0  REV        1      1  Esta es la revelación de Jesucristo, que Dios ...   \n",
       "1  REV        1      2  quien por su parte da fe de la verdad, escribi...   \n",
       "2  REV        1      3  Dichoso el que lee y dichosos los que escuchan...   \n",
       "3  REV        1      4  Yo, Juan, escribo a las siete iglesias que est...   \n",
       "4  REV        1      5  y de parte de Jesucristo, el testigo fiel, el ...   \n",
       "\n",
       "  version  \n",
       "0     NVI  \n",
       "1     NVI  \n",
       "2     NVI  \n",
       "3     NVI  \n",
       "4     NVI  "
      ]
     },
     "metadata": {},
     "output_type": "display_data"
    },
    {
     "name": "stdout",
     "output_type": "stream",
     "text": [
      "Saved as data/66_REV_clean.csv\n"
     ]
    }
   ],
   "source": [
    "processREV = ProcessDirty('REV','data/66_REV.csv')\n",
    "processREV.save()"
   ]
  },
  {
   "cell_type": "code",
   "execution_count": 7,
   "metadata": {
    "ExecuteTime": {
     "end_time": "2019-11-16T08:50:03.641335Z",
     "start_time": "2019-11-16T08:50:03.396256Z"
    }
   },
   "outputs": [
    {
     "data": {
      "text/html": [
       "<div>\n",
       "<style scoped>\n",
       "    .dataframe tbody tr th:only-of-type {\n",
       "        vertical-align: middle;\n",
       "    }\n",
       "\n",
       "    .dataframe tbody tr th {\n",
       "        vertical-align: top;\n",
       "    }\n",
       "\n",
       "    .dataframe thead th {\n",
       "        text-align: right;\n",
       "    }\n",
       "</style>\n",
       "<table border=\"1\" class=\"dataframe\">\n",
       "  <thead>\n",
       "    <tr style=\"text-align: right;\">\n",
       "      <th></th>\n",
       "      <th>book</th>\n",
       "      <th>chapter</th>\n",
       "      <th>verse</th>\n",
       "      <th>text</th>\n",
       "      <th>version</th>\n",
       "    </tr>\n",
       "  </thead>\n",
       "  <tbody>\n",
       "    <tr>\n",
       "      <th>0</th>\n",
       "      <td>GEN</td>\n",
       "      <td>1</td>\n",
       "      <td>1</td>\n",
       "      <td>Dios, en el principio, creó los cielos y la ti...</td>\n",
       "      <td>NVI</td>\n",
       "    </tr>\n",
       "    <tr>\n",
       "      <th>1</th>\n",
       "      <td>GEN</td>\n",
       "      <td>1</td>\n",
       "      <td>2</td>\n",
       "      <td>La tierra era un caos total, las tinieblas cub...</td>\n",
       "      <td>NVI</td>\n",
       "    </tr>\n",
       "    <tr>\n",
       "      <th>2</th>\n",
       "      <td>GEN</td>\n",
       "      <td>1</td>\n",
       "      <td>3</td>\n",
       "      <td>Y dijo Dios: «¡ Que exista la luz ! »Y la luz ...</td>\n",
       "      <td>NVI</td>\n",
       "    </tr>\n",
       "    <tr>\n",
       "      <th>3</th>\n",
       "      <td>GEN</td>\n",
       "      <td>1</td>\n",
       "      <td>4</td>\n",
       "      <td>Dios consideró que la luz era buena y la separ...</td>\n",
       "      <td>NVI</td>\n",
       "    </tr>\n",
       "    <tr>\n",
       "      <th>4</th>\n",
       "      <td>GEN</td>\n",
       "      <td>1</td>\n",
       "      <td>5</td>\n",
       "      <td>A la luz la llamó «día», y a las tinieblas, «n...</td>\n",
       "      <td>NVI</td>\n",
       "    </tr>\n",
       "  </tbody>\n",
       "</table>\n",
       "</div>"
      ],
      "text/plain": [
       "  book  chapter  verse                                               text  \\\n",
       "0  GEN        1      1  Dios, en el principio, creó los cielos y la ti...   \n",
       "1  GEN        1      2  La tierra era un caos total, las tinieblas cub...   \n",
       "2  GEN        1      3  Y dijo Dios: «¡ Que exista la luz ! »Y la luz ...   \n",
       "3  GEN        1      4  Dios consideró que la luz era buena y la separ...   \n",
       "4  GEN        1      5  A la luz la llamó «día», y a las tinieblas, «n...   \n",
       "\n",
       "  version  \n",
       "0     NVI  \n",
       "1     NVI  \n",
       "2     NVI  \n",
       "3     NVI  \n",
       "4     NVI  "
      ]
     },
     "metadata": {},
     "output_type": "display_data"
    },
    {
     "name": "stdout",
     "output_type": "stream",
     "text": [
      "Saved as data/1_GEN_clean.csv\n"
     ]
    }
   ],
   "source": [
    "processGEN = ProcessDirty('GEN','data/1_GEN.csv')\n",
    "processGEN.save()"
   ]
  },
  {
   "cell_type": "code",
   "execution_count": 8,
   "metadata": {
    "ExecuteTime": {
     "end_time": "2019-11-16T08:50:03.677553Z",
     "start_time": "2019-11-16T08:50:03.654986Z"
    }
   },
   "outputs": [],
   "source": [
    "def test_contains(df, book, word):\n",
    "    search = df.loc[df['text'].str.contains(word)]\n",
    "    alist = list(np.where(search.book==book, search.text,\"\"))\n",
    "    tx = \" ** \".join(alist).strip()\n",
    "    display(tx)"
   ]
  },
  {
   "cell_type": "code",
   "execution_count": 9,
   "metadata": {
    "ExecuteTime": {
     "end_time": "2019-11-16T08:50:03.730405Z",
     "start_time": "2019-11-16T08:50:03.692652Z"
    }
   },
   "outputs": [
    {
     "data": {
      "text/plain": [
       "['Esta es la revelación de Jesucristo, que Dios le dio para mostrar a sus siervos lo que sin demora tiene que suceder. Jesucristo envió a su ángel para dar a conocer la revelación a su siervo Juan, ',\n",
       " 'quien por su parte da fe de la verdad, escribiendo todo lo que vio, a saber, la palabra de Dios y el testimonio de Jesucristo. ',\n",
       " 'Dichoso el que lee y dichosos los que escuchan las palabras de este mensaje profético y hacen caso de lo que aquí está escrito, porque el tiempo de su cumplimiento está cerca.']"
      ]
     },
     "execution_count": 9,
     "metadata": {},
     "output_type": "execute_result"
    },
    {
     "data": {
      "text/plain": [
       "'Esta es la revelación de Jesucristo, que Dios le dio para mostrar a sus siervos lo que sin demora tiene que suceder. Jesucristo envió a su ángel para dar a conocer la revelación a su siervo Juan,  quien por su parte da fe de la verdad, escribiendo todo lo que vio, a saber, la palabra de Dios y el testimonio de Jesucristo.  Dichoso el que lee y dichosos los que escuchan las palabras de este mensaje profético y hacen caso de lo que aquí está escrito, porque el tiempo de su cumplimiento está cerca. Yo, Juan, escribo a las siete iglesias que están en la provincia de AsiaGracia y paz a vosotros de parte de aquel que es y que era y que ha de venir; y de parte de los siete espíritus que están delante de su trono;  y de parte de Jesucristo, el testigo fiel, el primogénito de la resurrección, el soberano de los reyes de la tierra. Al que nos ama y por su sangrenos ha librado de nuestros pecados, al que ha hecho de nosotros un reino, sacerdotes al servicio de Dios su Padre, ¡a él sea la gloria y el poderpor los siglos de los siglos! Amén. ¡ Mirad que viene en las nubes! Y todos le verán con sus propios ojos, incluso quienes le traspasaron; y por él harán lamentacióntodos los pueblos de la tierra. ¡Así será! Amén. «Yo so y el Alfa y la Omega —dice el Señor Dios—, el que es y que era y que ha de venir, el Todopoderoso». Yo, Juan, vuestro hermano y compañero en el sufrimiento, en el reino y en la perseverancia que tenemos en unión con Jesús, estaba en la isla de Patmos por causa de la palabra de Dios y del testimonio de Jesús.  En el día del Señor vino sobre mí el Espíritu, y oí detrás de mí una voz fuerte, como de trompeta,  que decía: «Escribe en un libro lo que veas y envíalo a las siete iglesias: a Éfeso, a Esmirna, a Pérgamo, a Tiatira, a Sardis, a Filadelfia y a Laodicea». Me volví para ver de quién era la voz que me hablaba y, al volverme, vi siete candelabros de oro.  En medio de los candelabros estaba alguien «semejante al Hijo del hombre», vestido con una túnica que le llegaba hasta los pies y ceñido con una banda de oro a la altura del pecho.  Su cabellera lucía como la lana blanca, como la nieve; y sus ojos resplandecían como llama de fuego.  Sus pies parecían bronce al rojo vivo en un horno, y su voz era tan fuerte como el estruendo de una catarata.  En su mano derecha tenía siete estrellas, y de su boca salía una aguda espada de dos filos. Su rostro era como el sol cuando brilla en todo su esplendor. Al verlo, caí a sus pies como muerto; pero él, poniendo su mano derecha sobre mí, me dijo: «No tengas miedo. Yo so y el Primero y el Último,  y el que vive. Estuve muerto, pero ahora vivo por los siglos de los siglos, y tengo las llaves de la muerte y del infierno. »Escribe, pues, lo que has visto, lo que sucede ahora y lo que sucederá después.  »Escribe al ángel de la iglesia de Éfeso: Esto dice el que tiene las siete estrellas en su mano derecha y se pasea en medio de los siete candelabros de oro:  Conozco tus obras, tu duro trabajo y tu perseverancia. Sé que no puedes soportar a los malvados, y que has puesto a prueba a los que dicen ser apóstoles, pero no lo son; y has descubierto que son falsos.  Has perseverado y sufrido por mi nombre, sin desanimarte. Sin embargo, tengo contra ti que has abandonado tu primer amor.  ¡ Recuerda de dónde has caído! Arrepiéntete y vuelve a practicar las obras que hacías al principio. Si no te arrepientes, iré y quitaré de su lugar tu candelabro.  Pero tienes a tu favor que aborreces las prácticas de los nicolaítas, las cuales yo también aborrezco. El que tenga oídos, que oiga lo que el Espíritu dice a las iglesias. Al que salga vencedor le daré derecho a comer del árbol de la vida, que está en el paraíso de Dios. »Escribe al ángel de la iglesia de Esmirna: Esto dice el Primero y el Último, el que murió y volvió a vivir:  Conozco tus sufrimientos y tu pobreza. ¡ Sin embargo, eres rico! Sé cómo te calumnian los que dicen ser judíos, pero que, en realidad, no son más que una sinagoga de Satanás.  No tengas miedo de lo que vas a sufrir. Te advierto que a algunos de vosotros el diablo os meterá en la cárcel para poneros a prueba, y sufriréis persecución durante diez días. Sé fiel hasta la muerte, y yo te daré la corona de la vida. El que tenga oídos, que oiga lo que el Espíritu dice a las iglesias. El que salga vencedor no sufrirá daño alguno de la segunda muerte. »Escribe al ángel de la iglesia de Pérgamo: Esto dice el que tiene la aguda espada de dos filos:  Sé dónde vives: allí donde Satanás tiene su trono. Sin embargo, sigues fiel a mi nombre. No renegaste de tu fe en mí, ni siquiera en los días en que Antipas, mi testigo fiel, sufrió la muerte en esa ciudad donde vive Satanás. No obstante, tengo unas cuantas cosas en tu contra: que toleras ahí a los que se aferran a la doctrina de Balán, el que enseñó a Balac a poner tropiezos a los israelitas, incitándolos a comer alimentos sacrificados a los ídolos y a cometer inmoralidades sexuales.  Toleras así mismo a los que sostienen la doctrina de los nicolaítas.  Por lo tanto, ¡ arrepiéntete! De otra manera, iré pronto a ti para pelear contra ellos con la espada que sale de mi boca. El que tenga oídos, que oiga lo que el Espíritu dice a las iglesias. Al que salga vencedor le daré del maná escondido, y le daré también una piedrecita blanca en la que está escrito un nombre nuevo que solo conoce el que lo recibe. »Escribe al ángel de la iglesia de Tiatira: Esto dice el Hijo de Dios, el que tiene ojos que resplandecen como llamas de fuego y pies que parecen bronce al rojo vivo:  Conozco tus obras, tu amor y tu fe, tu servicio y tu perseverancia, y sé que tus últimas obras son más abundantes que las primeras. Sin embargo, tengo en tu contra que toleras a Jezabel, esa mujer que dice ser profetisa. Con su enseñanza engaña a mis siervos, pues los induce a cometer inmoralidades sexuales y a comer alimentos sacrificados a los ídolos.  Le he dado tiempo para que se arrepienta de su inmoralidad, pero no quiere hacerlo.  Por eso la vo y a postrar en un lecho de dolor, y a los que cometen adulterio con ella los haré sufrir terriblemente, a menos que se arrepientan de lo que aprendieron de ella.  A los hijos de esa mujer los heriré de muerte. Así sabrán todas las iglesias que yo so y el que escudriña la mente y el corazón ; y a cada uno de vosotros os trataré de acuerdo con vuestras obras.  Ahora, al resto de los que están en Tiatira, es decir, a vosotros que no seguís esa enseñanza ni habéis aprendido los mal llamados “profundos secretos de Satanás”, os digo que ya no os impondré ninguna otra carga.  Eso sí, retened con firmeza lo que ya tenéis, hasta que yo venga. Al que salga vencedor y cumpla mi voluntad hasta el fin, le daré autoridad sobre las naciones —así como yo la he recibido de mi Padre— y“él las gobernará con puño de hierro; las hará pedazos como a vasijas de barro”. También le daré la estrella de la mañana.  »Escribe al ángel de la iglesia de Sardis: Esto dice el que tiene los siete espíritus de Dios y las siete estrellas: Conozco tus obras; tienes fama de estar vivo, pero en realidad estás muerto.  ¡ Despierta! Reaviva lo que aún es rescatable, pues no he encontrado que tus obras sean perfectas delante de mi Dios.  Así que recuerda lo que has recibido y oído; obedécelo y arrepiéntete. Si no te mantienes despierto, cuando menos lo esperes caeré sobre ti como un ladrón . Sin embargo, tienes en Sardis a unos cuantos que no se han manchado la ropa. Ellos, por ser dignos, andarán conmigo vestidos de blanco.  El que salga vencedor se vestirá de blanco. Jamás borraré su nombre del libro de la vida, sino que reconoceré su nombre delante de mi Padre y delante de sus ángeles.  El que tenga oídos, que oiga lo que el Espíritu dice a las iglesias. »Escribe al ángel de la iglesia de Filadelfia: Esto dice el Santo, el Verdadero, el que tiene la llave de David, el que abre y nadie puede cerrar, el que cierra y nadie puede abrir:  Conozco tus obras. Mira que delante de ti he dejado abierta una puerta que nadie puede cerrar. Ya sé que tus fuerzas son pocas, pero has obedecido mi palabra y no has renegado de mi nombre.  Vo y a hacer que los de la sinagoga de Satanás, que dicen ser judíos, pero que en realidad mienten, vayan y se postren a tus pies, y reconozcan que yo te he amado.  Ya que has guardado mi mandato de ser constante, yo por mi parte te guardaré de la hora de tentación, que vendrá sobre el mundo entero para poner a prueba a los que viven en la tierra. Vengo pronto. Aférrate a lo que tienes, para que nadie te quite la corona.  Al que salga vencedor lo haré columna del templo de mi Dios, y ya no saldrá jamás de allí. Sobre él grabaré el nombre de mi Dios y el nombre de la nueva Jerusalén, ciudad de mi Dios, la que baja del cielo de parte de mi Dios; y también grabaré sobre él mi nombre nuevo.  El que tenga oídos, que oiga lo que el Espíritu dice a las iglesias. »Escribe al ángel de la iglesia de Laodicea: Esto dice el Amén, el testigo fiel y veraz, el soberano de la creación de Dios:  Conozco tus obras; sé que no eres ni frío ni caliente. ¡ Ojalá fueras lo uno o lo otro!  Por tanto, como no eres ni frío ni caliente, sino tibio, vo y a vomitarte de mi boca.  Dices: “So y rico; me he enriquecido y no me hace falta nada”; pero no te das cuenta de cuán infeliz y miserable, pobre, ciego y desnudo eres tú.  Por eso te aconsejo que de mí compres oro refinado por el fuego, para que te hagas rico; ropas blancas para que te vistas y cubras tu vergonzosa desnudez; y colirio para que te lo pongas en los ojos y recobres la vista. Yo reprendo y disciplino a todos los que amo. Por lo tanto, sé fervoroso y arrepiéntete.  Mira que esto y a la puerta y llamo. Si alguno oye mi voz y abre la puerta, entraré, y cenaré con él, y él conmigo. Al que salga vencedor le daré el derecho de sentarse conmigo en mi trono, como también yo vencí y me senté con mi Padre en su trono.  Después de esto miré, y allí en el cielo había una puerta abierta. Y la voz que me había hablado antes con sonido como de trompeta me dijo: «Sube aquí: vo y a mostrarte lo que tiene que suceder después de esto».  Al instante vino sobre mí el Espíritu y vi un trono en el cielo, y a alguien sentado en el trono.  El que estaba sentado tenía un aspecto semejante a una piedra de jaspe y de cornalina. Alrededor del trono había un arco iris que se asemejaba a una esmeralda.  Rodeaban al trono otros veinticuatro tronos, en los que estaban sentados veinticuatro ancianos vestidos de blanco y con una corona de oro en la cabeza.  Del trono salían relámpagos, estruendos y truenos. Delante del trono ardían siete antorchas de fuego, que son los siete espíritus de Dios,  y había algo parecido a un mar de vidrio, como de cristal transparente. En el centro, alrededor del trono, había cuatro seres vivientes cubiertos de ojos por delante y por detrás.  El primero de los seres vivientes era semejante a un león; el segundo, a un toro; el tercero tenía rostro como de hombre; el cuarto era semejante a un águila en vuelo.  Cada uno de ellos tenía seis alas y estaba cubierto de ojos, por encima y por debajo de las alas. Y día y noche repetían sin cesar: «Santo, santo, santoes el Señor Dios Todopoderoso, el que era y que es y que ha de venir». Cada vez que estos seres vivientes daban gloria, honra y acción de gracias al que estaba sentado en el trono, al que vive por los siglos de los siglos,  los veinticuatro ancianos se postraban ante él y adoraban al que vive por los siglos de los siglos. Y deponían sus coronas delante del trono exclamando: En la mano derecha del que estaba sentado en el trono vi un rollo escrito por ambos lados y sellado con siete sellos.  También vi a un ángel poderoso que proclamaba a gran voz: «¿ Quién es digno de romper los sellos y de abrir el rollo? »  Pero ni en el cielo ni en la tierra, ni debajo de la tierra, hubo nadie capaz de abrirlo ni de examinar su contenido.  Y lloraba yo mucho, porque no se había encontrado a nadie que fuera digno de abrir el rollo ni de examinar su contenido.  Uno de los ancianos me dijo: «¡ Deja de llorar, que ya el León de la tribu de Judá, la Raíz de David, ha vencido! Él sí puede abrir el rollo y sus siete sellos». Entonces vi, en medio de los cuatro seres vivientes y del trono y los ancianos, a un Cordero que estaba de pie y parecía haber sido sacrificado. Tenía siete cuernos y siete ojos, que son los siete espíritus de Dios enviados por toda la tierra.  Se acercó y recibió el rollo de la mano derecha del que estaba sentado en el trono.  Cuando lo tomó, los cuatro seres vivientes y los veinticuatro ancianos se postraron delante del Cordero. Cada uno tenía un arpa y copas de oro llenas de incienso, que son las oraciones del pueblo de Dios.  Y entonaban este nuevo cántico: «Digno eres de recibir el rollo escrito y de romper sus sellos, porque fuiste sacrificado, y con tu sangre compraste para Diosgente de toda raza, lengua, pueblo y nación. De ellos hiciste un reino; los hiciste sacerdotes al servicio de nuestro Dios, y reinarán sobre la tierra». Luego miré, y oí la voz de muchos ángeles que estaban alrededor del trono, de los seres vivientes y de los ancianos. El número de ellos era millares de millares y millones de millones.  Cantaban con todas sus fuerzas: «¡ Digno es el Cordero, que ha sido sacrificado, de recibir el poder, la riqueza y la sabiduría, la fortaleza y la honra, la gloria y la alabanza! » Y oí a toda criatura que ha y en el cielo, y en la tierra, y debajo de la tierra y en el mar, a todos en la creación, que cantaban: «¡ Al que está sentado en el trono y al Cordero, sean la alabanza y la honra, la gloria y el poder, por los siglos de los siglos! » Vi cuando el Cordero rompió el primero de los siete sellos, y oí a uno de los cuatro seres vivientes, que gritaba con voz de trueno: «¡ Ven! »  Miré, ¡ y apareció un caballo blanco! El jinete llevaba un arco; se le dio una corona, y salió como vencedor, para seguir venciendo. Cuando el Cordero rompió el segundo sello, oí al segundo ser viviente, que gritaba: «¡ Ven! »  En eso salió otro caballo, de color rojo encendido. Al jinete se le entregó una gran espada; se le permitió quitar la paz de la tierra y hacer que sus habitantes se mataran unos a otros. Cuando el Cordero rompió el tercer sello, oí al tercero de los seres vivientes, que gritaba: «¡ Ven! » Miré, ¡ y apareció un caballo negro! El jinete tenía una balanza en la mano.  Y oí como una voz en medio de los cuatro seres vivientes, que decía: «Un kilo de trigo, o tres kilos de cebada, por el salario de un día; pero no afectes al precio del aceite y del vino». Cuando el Cordero rompió el cuarto sello, oí la voz del cuarto ser viviente, que gritaba: «¡ Ven! »  Miré, ¡ y apareció un caballo amarillento! El jinete se llamaba Muerte, y el Infierno lo seguía de cerca. Y se les otorgó poder sobre la cuarta parte de la tierra, para matar por medio de la espada, el hambre, las epidemias y las fieras de la tierra. Cuando el Cordero rompió el quinto sello, vi debajo del altar las almas de los que habían sufrido el martirio por causa de la palabra de Dios y por mantenerse fieles en su testimonio.  Gritaban a gran voz: «¿ Hasta cuándo, Soberano Señor, santo y veraz, seguirás sin juzgar a los habitantes de la tierra y sin vengar nuestra muerte? »  Entonces cada uno de ellos recibió ropas blancas, y se les dijo que esperaran un poco más, hasta que se completara el número de sus consiervos y hermanos que iban a sufrir el martirio como ellos. Vi que el Cordero rompió el sexto sello, y se produjo un gran terremoto. El sol se oscureció como si se hubiera vestido de luto, la luna entera se tornó roja como la sangre,  y las estrellas del firmamento cayeron sobre la tierra, como caen los higos verdes de la higuera sacudida por el vendaval.  El firmamento desapareció como cuando se enrolla un pergamino, y todas las montañas y las islas fueron removidas de su lugar. Los reyes de la tierra, los magnates, los jefes militares, los ricos, los poderosos, y todos los demás, esclavos y libres, se escondieron en las cuevas y entre las peñas de las montañas.  Todos gritaban a las montañas y a las peñas: «¡ Caed sobre nosotros y escondednos de la mirada del que está sentado en el trono y de la ira del Cordero,  Después de esto vi a cuatro ángeles en los cuatro ángulos de la tierra. Estaban allí de pie, deteniendo los cuatro vientos para que estos no se desataran sobre la tierra, el mar y los árboles.  Vi también a otro ángel que venía del oriente con el sello del Dios vivo. Gritó con voz potente a los cuatro ángeles a quienes se les había permitido hacer daño a la tierra y al mar:  «¡ No hagáis daño ni a la tierra, ni al mar ni a los árboles, hasta que hayamos puesto un sello en la frente de los siervos de nuestro Dios! »  Y oí el número de los que fueron sellados: ciento cuarenta y cuatro mil de todas las tribus de Israel. De la tribu de Judá fueron sellados doce mil; de la tribu de Rubén, doce mil; de la tribu de Gad, doce mil; de la tribu de Aser, doce mil; de la tribu de Neftalí, doce mil; de la tribu de Manasés, doce mil; de la tribu de Simeón, doce mil; de la tribu de Leví, doce mil; de la tribu de Isacar, doce mil; de la tribu de Zabulón, doce mil; de la tribu de José, doce mil; de la tribu de Benjamín, doce mil. Después de esto miré, y apareció una multitud tomada de todas las naciones, tribus, pueblos y lenguas; era tan grande que nadie podía contarla. Estaban de pie delante del trono y del Cordero, vestidos de túnicas blancas y con ramas de palma en la mano.  Gritaban a gran voz: «¡ La salvación viene de nuestro Dios, que está sentado en el trono, y del Cordero! » Todos los ángeles estaban de pie alrededor del trono, de los ancianos y de los cuatro seres vivientes. Se postraron rostro en tierra delante del trono, y adoraron a Dios  diciendo: «¡ Amén! La alabanza, la gloria, la sabiduría, la acción de gracias, la honra, el poder y la fortalezason de nuestro Dios por los siglos de los siglos. ¡Amén! » Entonces uno de los ancianos me preguntó: ―Esos que están vestidos de blanco, ¿ quiénes son, y de dónde vienen? ―Eso tú lo sabes, mi señor —respondí. Él me dijo: ―Aquellos son los que están saliendo de la gran tribulación; han lavado y blanqueado sus túnicas en la sangre del Cordero. Por eso están delante del trono de Dios, y día y noche le sirven en su templo; y el que está sentado en el tronoles dará refugio en su santuario. Ya no sufrirán hambre ni sed. No los abatirá el sol ni ningún calor abrasador. Cuando el Cordero rompió el séptimo sello, hubo silencio en el cielo como por media hora. Y vi a los siete ángeles que están de pie delante de Dios, a los cuales se les dieron siete trompetas. Se acercó otro ángel y se puso de pie frente al altar. Tenía un incensario de oro, y se le entregó mucho incienso para ofrecerlo, junto con las oraciones de todo el pueblo de Dios, sobre el altar de oro que está delante del trono.  Y, junto con esas oraciones, subió el humo del incienso desde la mano del ángel hasta la presencia de Dios.  Luego el ángel tomó el incensario y lo llenó con brasas del altar, las cuales arrojó sobre la tierra; y se produjeron truenos, estruendos, relámpagos y un terremoto. Los siete ángeles que tenían las siete trompetas se dispusieron a tocarlas. Tocó el primero su trompeta, y fueron arrojados sobre la tierra granizo y fuego mezclados con sangre. Y se quemó la tercera parte de la tierra, la tercera parte de los árboles y toda la hierba verde. Tocó el segundo ángel su trompeta, y fue arrojado al mar algo que parecía una enorme montaña envuelta en llamas. La tercera parte del mar se convirtió en sangre,  y murió la tercera parte de las criaturas que viven en el mar; también fue destruida la tercera parte de los barcos. Tocó el tercer ángel su trompeta, y una enorme estrella, que ardía como una antorcha, cayó desde el cielo sobre la tercera parte de los ríos y sobre los manantiales.  La estrella se llama Amargura. Y la tercera parte de las aguas se volvió amarga, y por causa de esas aguas murió mucha gente . Tocó el cuarto ángel su trompeta, y fue asolada la tercera parte del sol, de la luna y de las estrellas, de modo que se oscureció la tercera parte de ellos. Así quedó sin luz la tercera parte del día y la tercera parte de la noche. Tocó el quinto ángel su trompeta, y vi que había caído del cielo a la tierra una estrella, a la cual se le entregó la llave del pozo del abismo.  Lo abrió, y del pozo subió una humareda, como la de un horno gigantesco; y la humareda oscureció el sol y el aire.  De la humareda descendieron langostas sobre la tierra, y se les dio poder como el que tienen los escorpiones de la tierra.  Se les ordenó que no dañaran la hierba de la tierra, ni ninguna planta ni ningún árbol, sino solo a las personas que no llevaran en la frente el sello de Dios.  No se les dio permiso para matarlas, sino solo para torturarlas durante cinco meses. Su tormento es como el producido por la picadura de un escorpión.  En aquellos días la gente buscará la muerte, pero no la encontrará; desearán morir, pero la muerte huirá de ellos. El aspecto de las langostas era como de caballos equipados para la guerra. Llevaban en la cabeza algo que parecía una corona de oro, y su cara se asemejaba a un rostro humano.  Su crin parecía cabello de mujer, y sus dientes eran como de león.  Llevaban coraza como de hierro, y el ruido de sus alas se escuchaba como el estruendo de carros de muchos caballos que se lanzan a la batalla.  Tenían cola y aguijón como de escorpión; y en la cola tenían poder para torturar a la gente durante cinco meses.  El rey que los dirigía era el ángel del abismo, que en hebreo se llama Abadón y en griego Apolión. El primer ¡ ay! ya pasó, pero vienen todavía otros dos. Tocó el sexto ángel su trompeta, y oí una voz que salía de entre los cuernos del altar de oro que está delante de Dios.  A este ángel que tenía la trompeta, la voz le dijo: «Suelta a los cuatro ángeles que están atados a la orilla del gran río Éufrates».  Así que los cuatro ángeles que habían sido preparados precisamente para esa hora, y ese día, mes y año, quedaron sueltos para matar a la tercera parte de la humanidad.  Oí que el número de las tropas de caballería llegaba a doscientos millones. Así vi en la visión a los caballos y a sus jinetes: Tenían coraza de color rojo encendido, azul violeta y amarillo como azufre. La cabeza de los caballos era como de león, y por la boca echaban fuego, humo y azufre.  La tercera parte de la humanidad murió a causa de las tres plagas de fuego, humo y azufre que salían de la boca de los caballos.  Es que el poder de los caballos radicaba en su boca y en su cola; pues sus colas, semejantes a serpientes, tenían cabezas con las que hacían daño. El resto de la humanidad, los que no murieron a causa de estas plagas, tampoco se arrepintieron de sus malas acciones ni dejaron de adorar a los demonios y a los ídolos de oro, plata, bronce, piedra y madera, los cuales no pueden ver ni oír ni caminar.  Después vi a otro ángel poderoso que bajaba del cielo envuelto en una nube. Un arco iris rodeaba su cabeza; su rostro era como el sol, y sus piernas parecían columnas de fuego.  Llevaba en la mano un pequeño rollo escrito que estaba abierto. Puso el pie derecho sobre el mar y el izquierdo sobre la tierra,  y dio un grito tan fuerte que parecía el rugido de un león. Entonces los siete truenos levantaron también sus voces.  Una vez que hablaron los siete truenos, estaba a punto de escribir, pero oí una voz del cielo que me decía: «Guarda en secreto lo que han dicho los siete truenos, y no lo escribas». El ángel que yo había visto de pie sobre el mar y sobre la tierra levantó al cielo su mano derecha  y juró por el que vive por los siglos de los siglos, el que creó el cielo, la tierra, el mar y todo lo que ha y en ellos, y dijo: «¡ El tiempo ha terminado!  En los días en que hable el séptimo ángel, cuando comience a tocar su trompeta, se cumplirá el designio secreto de Dios, tal y como lo anunció a sus siervos los profetas». La voz del cielo que yo había escuchado se dirigió a mí de nuevo: «Acércate al ángel que está de pie sobre el mar y sobre la tierra, y toma el rollo que tiene abierto en la mano». Me acerqué al ángel y le pedí que me diera el rollo. Él me dijo: «Tómalo y cómetelo. Te amargará las entrañas, pero en la boca te sabrá dulce como la miel».  Lo tomé de la mano del ángel y me lo comí. Me supo dulce como la miel, pero al comérmelo se me amargaron las entrañas.  Se me dio una caña que servía para medir, y se me ordenó: «Levántate y mide el templo de Dios y el altar, y calcula cuántos pueden adorar allí.  Pero no incluyas el atrio exterior del templo; no lo midas, porque ha sido entregado a las naciones paganas, las cuales pisotearán la ciudad santa durante cuarenta y dos meses.  Por mi parte, yo encargaré a mis dos testigos que, vestidos de luto, profeticen durante mil doscientos sesenta días».  Estos dos testigos son los dos olivos y los dos candelabros que permanecen delante del Señor de la tierra.  Si alguien quiere hacerles daño, ellos lanzan fuego por la boca y consumen a sus enemigos. Así habrá de morir cualquiera que intente hacerles daño.  Estos testigos tienen poder para cerrar el cielo a fin de que no llueva mientras estén profetizando; y tienen poder para convertir las aguas en sangre y para azotar la tierra, cuantas veces quieran, con toda clase de plagas. Ahora bien, cuando hayan terminado de dar su testimonio, la bestia que sube del abismo les hará la guerra, los vencerá y los matará.  Sus cadáveres quedarán tendidos en la plaza de la gran ciudad, llamada en sentido figurado Sodoma y Egipto, donde también fue crucificado su Señor.  Y gente de todo pueblo, tribu, lengua y nación contemplará sus cadáveres por tres días y medio, y no permitirá que se les dé sepultura.  Los habitantes de la tierra se alegrarán de su muerte y harán fiesta e intercambiarán regalos, porque estos dos profetas les estaban haciendo la vida imposible. Pasados los tres días y medio, entró en ellos un aliento de vida enviado por Dios, y se pusieron de pie, y quienes los observaban quedaron sobrecogidos de terror.  Entonces los dos testigos oyeron una potente voz del cielo que les decía: «Subid aquí». Y subieron al cielo en una nube, a la vista de sus enemigos. En ese mismo instante se produjo un violento terremoto y se derrumbó la décima parte de la ciudad. Perecieron siete mil personas, pero los sobrevivientes, llenos de temor, dieron gloria al Dios del cielo. El segundo ¡ ay! ya pasó, pero se acerca el tercero. Tocó el séptimo ángel su trompeta, y en el cielo resonaron fuertes voces que decían: «El reino del mundo ha pasado a ser de nuestro Señor y de su Cristo y él reinará por los siglos de los siglos». Los veinticuatro ancianos que estaban sentados en sus tronos delante de Dios se postraron rostro en tierra y adoraron a Dios  diciendo: «Señor Dios Todopoderoso, que eres y que eras, te damos gracias porque has asumido tu gran poder y has comenzado a reinar. Las naciones se han enfurecido; pero ha llegado tu castigo, el momento de juzgar a los muertos, y de recompensar a tus siervos los profetas, a tus santos y a los que temen tu nombre, sean grandes o pequeños, y de destruir a los que destruyen la tierra». Apareció en el cielo una señal maravillosa: una mujer revestida del sol, con la luna debajo de sus pies y con una corona de doce estrellas en la cabeza.  Estaba encinta y gritaba por los dolores y angustias del parto.  Y apareció en el cielo otra señal: un enorme dragón de color rojo encendido que tenía siete cabezas y diez cuernos, y una diadema en cada cabeza.  Con la cola arrastró la tercera parte de las estrellas del cielo y las arrojó sobre la tierra. Cuando la mujer estaba a punto de dar a luz , el dragón se plantó delante de ella para devorar a su hijo tan pronto como naciera.  Ella dio a luz un hijo varón que «gobernará a todas las naciones con puño de hierro». Pero su hijo fue arrebatado y llevado hasta Dios, que está en su trono.  Y la mujer huyó al desierto, a un lugar que Dios le había preparado para que allí la sustentaran durante mil doscientos sesenta días. Se desató entonces una guerra en el cielo: Miguel y sus ángeles combatieron al dragón; este y sus ángeles, a su vez, les hicieron frente,  pero no pudieron vencer, y ya no hubo lugar para ellos en el cielo.  Así fue expulsado el gran dragón, aquella serpiente antigua que se llama Diablo y Satanás, y que engaña al mundo entero. Junto con sus ángeles, fue arrojado a la tierra. Luego oí en el cielo un gran clamor: «Han llegado ya la salvación y el poder y el reino de nuestro Dios; ha llegado ya la autoridad de su CristoPorque ha sido expulsadoel acusador de nuestros hermanos, el que los acusaba día y noche delante de nuestro Dios. Ellos lo han vencidopor medio de la sangre del Cordero y por el mensaje del cual dieron testimonio; no valoraron tanto su vidacomo para evitar la muerte. Por eso, ¡ alegraos, cielos, y vosotros que los habitáis! Pero ¡ a y de la tierra y del mar! El diablo, lleno de furor, ha descendido a vosotros, porque sabe que le queda poco tiempo». Cuando el dragón se vio arrojado a la tierra, persiguió a la mujer que había dado a luz al varón.  Pero a la mujer se le dieron las dos alas de la gran águila, para que volara al desierto, al lugar donde sería sustentada durante un tiempo y tiempos y medio tiempo, lejos de la vista de la serpiente.  La serpiente, persiguiendo a la mujer, arrojó por sus fauces agua como un río, para que la corriente la arrastrara.  Pero la tierra ayudó a la mujer: abrió la boca y se tragó el río que el dragón había arrojado por sus fauces.  Y el dragón se plantó a la orilla del mar. Entonces vi que del mar subía una bestia, la cual tenía diez cuernos y siete cabezas. En cada cuerno tenía una diadema, y en cada cabeza un nombre blasfemo contra Dios.  La bestia parecía un leopardo, pero tenía patas como de oso y fauces como de león. El dragón le confirió a la bestia su poder, su trono y gran autoridad.  Una de las cabezas de la bestia parecía haber sufrido una herida mortal, pero esa herida ya había sido sanada. El mundo entero, fascinado, iba tras la bestia  y adoraba al dragón porque había dado su autoridad a la bestia. También adoraban a la bestia y decían: «¿ Quién como la bestia? ¿ Quién puede combatirla? » A la bestia se le permitió hablar con arrogancia y proferir blasfemias contra Dios, y se le confirió autoridad para actuar durante cuarenta y dos meses.  Abrió la boca para blasfemar contra Dios, para maldecir su nombre y su morada y a los que viven en el cielo.  También se le permitió hacer la guerra a los santos y vencerlos, y se le dio autoridad sobre toda raza, pueblo, lengua y nación.  A la bestia la adorarán todos los habitantes de la tierra, aquellos cuyos nombres no han sido escritos en el libro de la vida, el libro del Cordero que fue sacrificado desde la creación del mundo. El que tenga oídos, que oiga. El que deba ser llevado cautivo, a la cautividad irá. El que deba morir a espada, a filo de espada morirá. ¡En esto consisten la perseverancia y la fidelidad de los santos! Después vi que de la tierra subía otra bestia. Tenía dos cuernos como de cordero, pero hablaba como dragón.  Ejercía toda la autoridad de la primera bestia en presencia de ella, y hacía que la tierra y sus habitantes adoraran a la primera bestia, cuya herida mortal había sido sanada.  También hacía grandes señales milagrosas, incluso la de hacer caer fuego del cielo a la tierra, a la vista de todos.  Con estas señales que se le permitió hacer en presencia de la primera bestia, engañó a los habitantes de la tierra. Les ordenó que hicieran una imagen en honor de la bestia que, después de ser herida a espada, revivió.  Se le permitió infundir vida a la imagen de la primera bestia, para que hablara y mandara matar a quienes no adoraran la imagen.  Además logró que a todos, grandes y pequeños, ricos y pobres, libres y esclavos, se les pusiera una marca en la mano derecha o en la frente,  de modo que nadie pudiera comprar ni vender, a menos que llevara la marca, que es el nombre de la bestia o el número de ese nombre. Luego miré, y apareció el Cordero. Estaba de pie sobre el monte Sión, en compañía de ciento cuarenta y cuatro mil personas que llevaban escrito en la frente el nombre del Cordero y de su Padre.  Oí un sonido que venía del cielo, como el estruendo de una catarata y el retumbar de un gran trueno. El sonido se parecía al de músicos que tañen sus arpas.  Y cantaban un himno nuevo delante del trono y delante de los cuatro seres vivientes y de los ancianos. Nadie podía aprender aquel himno, aparte de los ciento cuarenta y cuatro mil que habían sido rescatados de la tierra.  Estos se mantuvieron puros, sin contaminarse con ritos sexuales. Son los que siguen al Cordero por dondequiera que va. Fueron rescatados como los primeros frutos de la humanidad para Dios y el Cordero.  No se encontró mentira alguna en su boca, pues son intachables. Luego vi a otro ángel que volaba en medio del cielo, y que llevaba el evangelio eterno para anunciarlo a los que viven en la tierra, a toda nación, raza, lengua y pueblo.  Gritaba a gran voz: «Temed a Dios y dadle gloria, porque ha llegado la hora de su juicio. Adorad al que hizo el cielo, la tierra, el mar y los manantiales». Lo seguía un segundo ángel que gritaba: «¡ Ya cayó! Ya cayó la gran Babilonia, la que hizo que todas las naciones bebieran el excitante vino de su adulterio». Los seguía un tercer ángel que clamaba a grandes voces: «Si alguien adora a la bestia y a su imagen, y se deja poner en la frente o en la mano la marca de la bestia,  beberá también el vino del furor de Dios, que en la copa de su ira está puro, no diluido. Será atormentado con fuego y azufre, en presencia de los santos ángeles y del Cordero.  El humo de ese tormento sube por los siglos de los siglos. No habrá descanso ni de día ni de noche para el que adore a la bestia y su imagen, ni para quien se deje poner la marca de su nombre».  ¡ En esto consiste la perseverancia de los santos, los cuales obedecen los mandamientos de Dios y se mantienen fieles a Jesús! Entonces oí una voz del cielo, que decía: «Escribe: Dichosos los que de ahora en adelante mueren en el Señor». «Sí —dice el Espíritu—, ellos descansarán de sus fatigosas tareas, pues sus obras los acompañan». Miré, y apareció una nube blanca, sobre la cual estaba sentado alguien «semejante al Hijo del hombre». En la cabeza tenía una corona de oro y, en la mano, una hoz afilada.  Entonces salió del templo otro ángel y le gritó al que estaba sentado en la nube: «Mete la hoz y recoge la cosecha; ya es tiempo de segar, pues la cosecha de la tierra está madura».  Así que el que estaba sentado sobre la nube pasó la hoz, y la tierra fue segada. Del templo que está en el cielo salió otro ángel, que también llevaba una hoz afilada.  Del altar salió otro ángel, que tenía autoridad sobre el fuego, y le gritó al que llevaba la hoz afilada: «Mete tu hoz y corta los racimos del viñedo de la tierra, porque sus uvas ya están maduras».  El ángel pasó la hoz sobre la tierra, recogió las uvas y las echó en el gran lagar de la ira de Dios.  Vi en el cielo otra señal grande y maravillosa: siete ángeles con las siete plagas, que son las últimas, pues con ellas se consumará la ira de Dios.  Vi también un mar como de vidrio mezclado con fuego. De pie, a la orilla del mar, estaban los que habían vencido a la bestia, a su imagen y al número de su nombre. Tenían las arpas que Dios les había dado,  y cantaban el himno de Moisés, siervo de Dios, y el himno del Cordero: «Grandes y maravillosas son tus obras, Señor Dios Todopoderoso. Justos y verdaderos son tus caminos, Re y de las naciones ¿ Quién no te temerá, oh Señor? ¿Quién no glorificará tu nombre? Solo tú eres santo. Todas las naciones vendrán y te adorarán, porque han salido a la luz las obras de tu justicia». Después de esto miré, y en el cielo se abrió el templo, el tabernáculo del testimonio.  Del templo salieron los siete ángeles que llevaban las siete plagas. Estaban vestidos de lino limpio y resplandeciente, y ceñidos con bandas de oro a la altura del pecho.  Uno de los cuatro seres vivientes dio a cada uno de los siete ángeles una copa de oro llena del furor de Dios, quien vive por los siglos de los siglos.  Oí una voz que desde el templo decía a gritos a los siete ángeles: «¡ Id y derramad sobre la tierra las siete copas del furor de Dios! » El primer ángel fue y derramó su copa sobre la tierra, y a toda la gente que tenía la marca de la bestia y que adoraba su imagen le salió una llaga maligna y repugnante. El segundo ángel derramó su copa sobre el mar, y el mar se convirtió en sangre como de gente masacrada, y murió todo ser viviente que había en el mar. El tercer ángel derramó su copa sobre los ríos y los manantiales, y estos se convirtieron en sangre.  Oí que el ángel de las aguas decía: «Justo eres tú, el Santo, que eres y que eras, porque juzgas así: ellos derramaron la sangre de santos y de profetas, y tú les has dado a beber sangre, como se merecen». Oí también que el altar respondía: «Así es, Señor Dios Todopoderoso, verdaderos y justos son tus juicios». El cuarto ángel derramó su copa sobre el sol, al cual se le permitió quemar con fuego a la gente .  Todos sufrieron terribles quemaduras, pero ni así se arrepintieron; en vez de darle gloria a Dios, que tiene poder sobre esas plagas, maldijeron su nombre. El quinto ángel derramó su copa sobre el trono de la bestia, y el reino de la bestia quedó sumido en la oscuridad. La gente se mordía la lengua de dolor  y, por causa de sus padecimientos y de sus llagas, maldecían al Dios del cielo, pero no se arrepintieron de sus malas obras. El sexto ángel derramó su copa sobre el gran río Éufrates, y se secaron sus aguas para abrir paso a los reyes del oriente.  Y vi salir de la boca del dragón, de la boca de la bestia y de la boca del falso profeta tres espíritus malignos que parecían ranas.  Son espíritus de demonios que hacen señales milagrosas y que salen a reunir a los reyes del mundo entero para la batalla del gran día del Dios Todopoderoso. «¡ Cuidado! ¡ Vengo como un ladrón ! Dichoso el que se mantenga despierto, conservando su ropa, no sea que ande desnudo y pase vergüenza por su desnudez». Entonces los espíritus de los demonios reunieron a los reyes en el lugar que en hebreo se llama Armagedón. El séptimo ángel derramó su copa en el aire, y desde el trono del templo salió una fuerte voz que decía: «¡ Ya está hecho! »  Y hubo relámpagos, estruendos, truenos y un violento terremoto. Nunca, desde que el género humano existe en la tierra, se había sentido un terremoto tan grande y violento.  La gran ciudad se partió en tres, y las ciudades de las naciones se desplomaron. Dios se acordó de la gran Babilonia y le dio a beber de la copa llena del vino del furor de su castigo.  Entonces huyeron todas las islas y desaparecieron las montañas.  Uno de los siete ángeles que tenían las siete copas se me acercó y me dijo: «Ven, y te mostraré el castigo de la gran prostituta que está sentada sobre muchas aguas.  Con ella cometieron adulterio los reyes de la tierra, y los habitantes de la tierra se embriagaron con el vino de su inmoralidad». Luego el ángel me llevó en el Espíritu a un desierto. Allí vi a una mujer montada en una bestia escarlata. La bestia estaba cubierta de nombres blasfemos contra Dios, y tenía siete cabezas y diez cuernos.  La mujer estaba vestida de púrpura y escarlata, y adornada con oro, piedras preciosas y perlas. Tenía en la mano una copa de oro llena de abominaciones y de la inmundicia de sus adulterios.  En la frente llevaba escrito un nombre misterioso: la gran babiloniamadre de las prostitutas y de las abominables idolatrías de la tierra. Vi que la mujer se había emborrachado con la sangre de los santos y de los mártires de Jesús. Al verla, quedé sumamente asombrado.  Entonces el ángel me dijo: «¿ Por qué te asombras? Yo te explicaré el misterio de esa mujer y de la bestia de siete cabezas y diez cuernos en la que va montada.  La bestia que has visto es la que antes era, pero ya no es, y está a punto de subir del abismo, pero va rumbo a la destrucción. Los habitantes de la tierra, cuyos nombres, desde la creación del mundo, no han sido escritos en el libro de la vida, se asombrarán al ver a la bestia, porque antes era, pero ya no es, y sin embargo reaparecerá. »¡ En esto consisten el entendimiento y la sabiduría! Las siete cabezas son siete colinas sobre las que está sentada esa mujer.  También son siete reyes : cinco han caído, uno está gobernando, el otro no ha llegado todavía; pero, cuando llegue, es preciso que dure poco tiempo.  La bestia, que antes era, pero ya no es, es el octavo rey. Está incluido entre los siete, y va rumbo a la destrucción. »Los diez cuernos que has visto son diez reyes que todavía no han comenzado a reinar, pero que por una hora recibirán autoridad como reyes , junto con la bestia.  Estos tienen un mismo propósito, que es poner su poder y autoridad a disposición de la bestia.  Le harán la guerra al Cordero, pero el Cordero los vencerá, porque es Señor de señores y Re y de reyes , y los que están con él son sus llamados, sus escogidos y sus fieles». Además el ángel me dijo: «Las aguas que has visto, donde está sentada la prostituta, son pueblos, multitudes, naciones y lenguas.  Los diez cuernos y la bestia que has visto odiarán a la prostituta. Causarán su ruina y la dejarán desnuda; devorarán su cuerpo y la destruirán con fuego,  porque Dios les ha puesto en el corazón que lleven a cabo su divino propósito. Por eso, y de común acuerdo, ellos le entregarán a la bestia el poder de gobernar que tienen, hasta que se cumplan las palabras de Dios.  Después de esto vi a otro ángel que bajaba del cielo. Tenía mucho poder, y la tierra se iluminó con su resplandor.  Gritó a gran voz: «¡ Ha caído! ¡ Ha caído la gran Babilonia! Se ha convertido en morada de demonios y en guarida de todo espíritu malignoen nido de toda ave impura y detestable. Porque todas las naciones han bebidoel excitante vino de su adulterio; los reyes de la tierra cometieron adulterio con ella, y los comerciantes de la tierra se enriquecierona costa de lo que ella despilfarraba en sus lujos». Luego oí otra voz del cielo que decía: «Salid de ella, pueblo mío, para que no seáis cómplices de sus pecados, ni os alcance ninguna de sus plagas; pues sus pecados se han amontonado hasta el cielo, y de sus injusticias se ha acordado Dios. Pagadle con la misma moneda; Dadle el doble de lo que ha cometido, y en la misma copa en que ella preparó bebidamezcladle una doble porción. En la medida en que ella se entregó a la vanagloria y al arrogante lujo, dadle tormento y aflicción; porque en su corazón se jacta: “Esto y sentada como reina; no so y viuda ni sufriré jamás”. Por eso, en un solo día le sobrevendrán sus plagas: pestilencia, aflicción y hambre. Será consumida por el fuego, porque poderoso es el Señor Dios que la juzga». Cuando los reyes de la tierra que cometieron adulterio con ella y compartieron su lujo vean el humo del fuego que la consume, llorarán de dolor por ella.  Aterrorizados al ver semejante castigo, se mantendrán a distancia y gritarán: «¡ Ay! ¡ A y de ti, la gran ciudad, Babilonia, ciudad poderosa, porque en una sola hora ha llegado tu juicio! » Los comerciantes de la tierra llorarán y harán duelo por ella, porque ya no habrá quien les compre sus mercaderías:  artículos de oro, plata, piedras preciosas y perlas; lino fino, púrpura, telas de seda y escarlata; toda clase de maderas de cedro; los más variados objetos, hechos de marfil, de madera preciosa, de bronce, de hierro y de mármol;  cargamentos de canela y especias aromáticas; de incienso, mirra y perfumes; de vino y aceite; de harina refinada y trigo; de ganado vacuno y de corderos; de caballos y carruajes; y hasta de seres humanos, vendidos como esclavos. Y dirán: «Se ha apartado de ti el fruto que con toda el alma codiciabas. Has perdido todas tus cosas suntuosas y espléndidas, y nunca las recuperarás».  Los comerciantes que vendían estas mercaderías y se habían enriquecido a costa de ella se mantendrán a distancia, aterrorizados al ver semejante castigo. Llorarán y harán lamentación: «¡ Ay! ¡ A y de la gran ciudad, vestida de lino fino, de púrpura y escarlata, y adornada con oro, piedras preciosas y perlas, porque en una sola hora ha quedado destruida toda tu riqueza! »Todos los capitanes de barco, los pasajeros, los marineros y todos los que viven del mar se detendrán a lo lejos.  Al ver el humo del fuego que la consume, exclamarán: «¿ Hubo jamás alguna ciudad como esta gran ciudad? »  Harán duelo, llorando y lamentándose a gritos: «¡ Ay! ¡ A y de la gran ciudad, con cuya opulencia se enriquecierontodos los dueños de flotas navieras! ¡En una sola hora ha quedado destruida! ¡ Alégrate, oh cielo, por lo que le ha sucedido! ¡Alegraos también vosotros, santos, apóstoles y profetas! ,porque Dios, al juzgarla, os ha hecho justicia». Entonces un ángel poderoso levantó una piedra del tamaño de una gran rueda de molino, y la arrojó al mar diciendo: «Así también tú, Babilonia, gran ciudad, serás derribada con la misma violencia, y desaparecerás de la faz de la tierra. Jamás volverá a oírse en tila música de los cantantes y de arpas, flautas y trompetas. Jamás volverá a hallarse en tiningún tipo de artesano. Jamás volverá a oírse en tiel ruido de la rueda de molino. Jamás volverá a brillar en tila luz de ninguna lámpara. Jamás volverá a sentirse en tiel regocijo de las nupcias. Porque tus comercianteseran los magnates del mundo, porque con tus hechiceríasengañaste a todas las naciones, Después de esto oí en el cielo un tremendo bullicio, como el de una inmensa multitud que exclamaba: «¡ Aleluya! La salvación, la gloria y el poder son de nuestro Dios, pues sus juicios son verdaderos y justos: ha condenado a la famosa prostitutaque con sus adulterios corrompía la tierra; ha vindicado la sangre de los siervos de Dios derramada por ella». Y volvieron a exclamar: «¡ Aleluya! El humo de ella sube por los siglos de los siglos». Entonces los veinticuatro ancianos y los cuatro seres vivientes se postraron y adoraron a Dios, que estaba sentado en el trono, y dijeron: «¡ Amén, Aleluya! » Y del trono salió una voz que decía: «¡ Alabad a nuestro Dios, todos sus siervos, grandes y pequeños, que con reverente temor le sirven! » Después oí voces como el rumor de una inmensa multitud, como el estruendo de una catarata y como el retumbar de potentes truenos, que exclamaban: «¡ Aleluya! Ya ha comenzado a reinar el Señor, nuestro Dios Todopoderoso. ¡ Alegrémonos y regocijémonos y démosle gloria! Ya ha llegado el día de las bodas del Cordero. Su novia se ha preparado, y se le ha concedido vestirsede lino fino, limpio y resplandeciente». (El lino fino representa las acciones justas de los santos). El ángel me dijo: «Escribe: “¡ Dichosos los que han sido convidados a la cena de las bodas del Cordero! ”» Y añadió: «Estas son las palabras verdaderas de Dios». Me postré a sus pies para adorarle. Pero él me dijo: «¡ No, cuidado! So y un siervo como tú y como tus hermanos que se mantienen fieles al testimonio de Jesús. ¡ Adora solo a Dios! El testimonio de Jesús es el espíritu que inspira la profecía». Luego vi el cielo abierto, y apareció un caballo blanco. Su jinete se llama Fiel y Verdadero. Con justicia dicta sentencia y hace la guerra.  Sus ojos resplandecen como llamas de fuego, y muchas diademas ciñen su cabeza. Lleva escrito un nombre que nadie conoce sino solo él.  Está vestido de un manto teñido en sangre, y su nombre es «el Verbo de Dios».  Le siguen los ejércitos del cielo, montados en caballos blancos y vestidos de lino fino, blanco y limpio.  De su boca sale una espada afilada, con la que herirá a las naciones. «Las gobernará con puño de hierro». Él mismo exprime uvas en el lagar del furor del castigo que viene de Dios Todopoderoso.  En su manto y sobre el muslo lleva escrito este nombre: Re y de reyes y Señor de señores. Vi a un ángel que, parado sobre el sol, gritaba a todas las aves que vuelan en medio del cielo: «Venid, reuníos para la gran cena de Dios,  para que comáis carne de reyes , de jefes militares y de magnates; carne de caballos y de sus jinetes; carne de toda clase de gente , libres y esclavos, grandes y pequeños». Entonces vi a la bestia y a los reyes de la tierra con sus ejércitos, reunidos para hacer guerra contra el jinete de aquel caballo y contra su ejército.  Pero la bestia fue capturada junto con el falso profeta. Este es el que hacía señales milagrosas en presencia de ella, con las cuales engañaba a los que habían recibido la marca de la bestia y adoraban su imagen. Los dos fueron arrojados vivos al lago de fuego y azufre.  Vi además a un ángel que bajaba del cielo con la llave del abismo y una gran cadena en la mano.  Sujetó al dragón, a aquella serpiente antigua que es el diablo y Satanás, y lo encadenó por mil años.  Lo arrojó al abismo, lo encerró y tapó la salida para que no engañara más a las naciones, hasta que se cumplieran los mil años. Después habrá de ser soltado por algún tiempo. Entonces vi tronos donde se sentaron los que recibieron autoridad para juzgar. Vi también las almas de los que habían sido decapitados por causa del testimonio de Jesús y por la palabra de Dios. No habían adorado a la bestia ni a su imagen, ni se habían dejado poner su marca en la frente ni en la mano. Volvieron a vivir y reinaron con Cristo mil años.  Esta es la primera resurrección; los demás muertos no volvieron a vivir hasta que se cumplieron los mil años.  Dichosos y santos los que tienen parte en la primera resurrección. La segunda muerte no tiene poder sobre ellos, sino que serán sacerdotes de Dios y de Cristo, y reinarán con él mil años. Cuando se cumplan los mil años, Satanás será liberado de su prisión,  y saldrá para engañar a las naciones que están en los cuatro ángulos de la tierra —a Gog y a Magog—, a fin de reunirlas para la batalla. Su número será como el de las arenas del mar.  Marcharán a lo largo y a lo ancho de la tierra, y rodearán el campamento del pueblo de Dios, la ciudad que él ama. Pero caerá fuego del cielo y los consumirá por completo.  El diablo, que los había engañado, será arrojado al lago de fuego y azufre, donde también habrán sido arrojados la bestia y el falso profeta. Allí serán atormentados día y noche por los siglos de los siglos. Luego vi un gran trono blanco y a alguien que estaba sentado en él. De su presencia huyeron la tierra y el cielo, sin dejar rastro alguno.  Vi también a los muertos, grandes y pequeños, de pie delante del trono. Se abrieron unos libros, y luego otro, que es el libro de la vida. Los muertos fueron juzgados según lo que habían hecho, conforme a lo que estaba escrito en los libros.  El mar devolvió sus muertos; la muerte y el infierno devolvieron los suyos; y cada uno fue juzgado según lo que había hecho.  La muerte y el infierno fueron arrojados al lago de fuego. Este lago de fuego es la muerte segunda.  Después vi un cielo nuevo y una tierra nueva, porque el primer cielo y la primera tierra habían dejado de existir, lo mismo que el mar.  Vi además la ciudad santa, la nueva Jerusalén, que bajaba del cielo, procedente de Dios, preparada como una novia hermosamente vestida para su prometido.  Oí una potente voz que provenía del trono y decía: «¡ Aquí, entre los seres humanos, está la morada de Dios! Él acampará en medio de ellos, y ellos serán su pueblo; Dios mismo estará con ellos y será su Dios.  Él les enjugará toda lágrima de los ojos. Ya no habrá muerte, ni llanto, ni lamento ni dolor, porque las primeras cosas han dejado de existir». El que estaba sentado en el trono dijo: «¡ Yo hago nuevas todas las cosas! » Y añadió: «Escribe, porque estas palabras son verdaderas y dignas de confianza». También me dijo: «Ya todo está hecho. Yo so y el Alfa y la Omega, el Principio y el Fin. Al que tenga sed le daré a beber gratuitamente de la fuente del agua de la vida.  El que salga vencedor heredará todo esto, y yo seré su Dios y él será mi hijo.  Pero los cobardes, los incrédulos, los abominables, los asesinos, los que cometen inmoralidades sexuales, los que practican artes mágicas, los idólatras y todos los mentirosos recibirán como herencia el lago de fuego y azufre. Esta es la segunda muerte». Se acercó uno de los siete ángeles que tenían las siete copas llenas con las últimas siete plagas. Me habló así: «Ven, que te vo y a presentar a la novia, la esposa del Cordero».  Me llevó en el Espíritu a una montaña grande y elevada, y me mostró la ciudad santa, Jerusalén, que bajaba del cielo, procedente de Dios.  Resplandecía con la gloria de Dios, y su brillo era como el de una piedra preciosa, semejante a una piedra de jaspe transparente.  Tenía una muralla grande y alta, y doce puertas custodiadas por doce ángeles, en las que estaban escritos los nombres de las doce tribus de Israel.  Tres puertas daban al este, tres al norte, tres al sur y tres al oeste.  La muralla de la ciudad tenía doce cimientos, en los que estaban los nombres de los doce apóstoles del Cordero. El ángel que hablaba conmigo llevaba una caña de oro para medir la ciudad, sus puertas y su muralla.  La ciudad era cuadrada; medía lo mismo de largo que de ancho. El ángel midió la ciudad con la caña, y tenía dos mil doscientos kilómetros: su longitud, su anchura y su altura eran iguales.  Midió también la muralla, y tenía sesenta y cinco metros, según las medidas humanas que el ángel empleaba.  La muralla estaba hecha de jaspe, y la ciudad era de oro puro, semejante a cristal pulido.  Los cimientos de la muralla de la ciudad estaban decorados con toda clase de piedras preciosas: el primero con jaspe, el segundo con zafiro, el tercero con ágata, el cuarto con esmeralda,  el quinto con ónice, el sexto con cornalina, el séptimo con crisólito, el octavo con berilo, el noveno con topacio, el décimo con crisoprasa, el undécimo con jacinto y el duodécimo con amatista. Las doce puertas eran doce perlas, y cada puerta estaba hecha de una sola perla. La calle principal de la ciudad era de oro puro, como cristal transparente. No vi ningún templo en la ciudad, porque el Señor Dios Todopoderoso y el Cordero son su templo.  La ciudad no necesita ni sol ni luna que la alumbren, porque la gloria de Dios la ilumina, y el Cordero es su lumbrera.  Las naciones caminarán a la luz de la ciudad, y los reyes de la tierra le entregarán sus espléndidas riquezas. Sus puertas estarán abiertas todo el día, pues allí no habrá noche.  Y llevarán a ella todas las riquezas y el honor de las naciones.  Luego el ángel me mostró un río de agua de vida, claro como el cristal, que salía del trono de Dios y del Cordero,  y corría por el centro de la calle principal de la ciudad. A cada lado del río estaba el árbol de la vida, que produce doce cosechas al año, una por mes; y las hojas del árbol son para la salud de las naciones.  Ya no habrá maldición. El trono de Dios y del Cordero estará en la ciudad. Sus siervos le adorarán;  lo verán cara a cara, y llevarán su nombre en la frente.  Ya no habrá noche; no necesitarán luz de lámpara ni de sol, porque el Señor Dios los alumbrará. Y reinarán por los siglos de los siglos. El ángel me dijo: «Estas palabras son verdaderas y dignas de confianza. El Señor, el Dios que inspira a los profetas, ha enviado a su ángel para mostrar a sus siervos lo que tiene que suceder sin demora». «¡ Mirad que vengo pronto! Dichoso el que cumple las palabras del mensaje profético de este libro». Yo, Juan, so y el que vio y oyó todas estas cosas. Y, cuando lo vi y oí, me postré para adorar al ángel que me había estado mostrando todo esto.  Pero él me dijo: «¡ No, cuidado! So y un siervo como tú, como tus hermanos los profetas y como todos los que cumplen las palabras de este libro. ¡ Adora solo a Dios! » También me dijo: «No guardes en secreto las palabras del mensaje profético de este libro, porque el tiempo de su cumplimiento está cerca.  Deja que el malo siga haciendo el mal y que el vil siga envileciéndose; deja que el justo siga practicando la justicia y que el santo siga santificándose». «¡ Mirad que vengo pronto! Traigo conmigo mi recompensa, y le pagaré a cada uno según lo que haya hecho.  Yo so y el Alfa y la Omega, el Primero y el Último, el Principio y el Fin. »Dichosos los que lavan sus ropas para tener derecho al árbol de la vida y para poder entrar por las puertas de la ciudad.  Pero afuera se quedarán los perros, los que practican las artes mágicas, los que cometen inmoralidades sexuales, los asesinos, los idólatras y todos los que aman y practican la mentira. »Yo, Jesús, he enviado a mi ángel para daros testimonio de estas cosas que conciernen a las iglesias. Yo so y la raíz y la descendencia de David, la brillante estrella de la mañana». El Espíritu y la novia dicen: «¡ Ven! »; y el que escuche diga: «¡ Ven! » El que tenga sed, venga; y el que quiera, tome gratuitamente del agua de la vida. A todo el que escuche las palabras del mensaje profético de este libro le advierto esto: Si alguno añade algo, Dios le añadirá a él las plagas descritas en este libro.  Y, si alguno quita palabras de este libro de profecía, Dios le quitará su parte del árbol de la vida y de la ciudad santa, descritos en este libro. El que da testimonio de estas cosas, dice: «Sí, vengo pronto». Amén. ¡ Ven, Señor Jesús!'"
      ]
     },
     "execution_count": 9,
     "metadata": {},
     "output_type": "execute_result"
    }
   ],
   "source": [
    "df = processREV.get_df()\n",
    "\n",
    "nlist = list(np.where(df.book==df.book, df.text,\"\"))\n",
    "nlist[:3]\n",
    "\n",
    "\n",
    "texts = \" \".join(nlist).strip()\n",
    "\n",
    "texts"
   ]
  },
  {
   "cell_type": "code",
   "execution_count": 10,
   "metadata": {
    "ExecuteTime": {
     "end_time": "2019-11-16T08:50:03.766515Z",
     "start_time": "2019-11-16T08:50:03.738445Z"
    }
   },
   "outputs": [
    {
     "name": "stdout",
     "output_type": "stream",
     "text": [
      "False\n"
     ]
    }
   ],
   "source": [
    "print(('lapara' in texts))"
   ]
  },
  {
   "cell_type": "code",
   "execution_count": null,
   "metadata": {},
   "outputs": [],
   "source": []
  }
 ],
 "metadata": {
  "kernelspec": {
   "display_name": "Python 3",
   "language": "python",
   "name": "python3"
  },
  "language_info": {
   "codemirror_mode": {
    "name": "ipython",
    "version": 3
   },
   "file_extension": ".py",
   "mimetype": "text/x-python",
   "name": "python",
   "nbconvert_exporter": "python",
   "pygments_lexer": "ipython3",
   "version": "3.6.8"
  },
  "toc": {
   "base_numbering": 1,
   "nav_menu": {},
   "number_sections": false,
   "sideBar": true,
   "skip_h1_title": false,
   "title_cell": "Table of Contents",
   "title_sidebar": "Contents",
   "toc_cell": false,
   "toc_position": {},
   "toc_section_display": true,
   "toc_window_display": false
  },
  "varInspector": {
   "cols": {
    "lenName": 16,
    "lenType": 16,
    "lenVar": 40
   },
   "kernels_config": {
    "python": {
     "delete_cmd_postfix": "",
     "delete_cmd_prefix": "del ",
     "library": "var_list.py",
     "varRefreshCmd": "print(var_dic_list())"
    },
    "r": {
     "delete_cmd_postfix": ") ",
     "delete_cmd_prefix": "rm(",
     "library": "var_list.r",
     "varRefreshCmd": "cat(var_dic_list()) "
    }
   },
   "types_to_exclude": [
    "module",
    "function",
    "builtin_function_or_method",
    "instance",
    "_Feature"
   ],
   "window_display": false
  }
 },
 "nbformat": 4,
 "nbformat_minor": 2
}
